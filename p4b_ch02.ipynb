{
 "cells": [
  {
   "cell_type": "code",
   "execution_count": 1,
   "metadata": {},
   "outputs": [
    {
     "name": "stdout",
     "output_type": "stream",
     "text": [
      "hello world\n"
     ]
    }
   ],
   "source": [
    "\n",
    "print (\"hello world\")"
   ]
  },
  {
   "cell_type": "code",
   "execution_count": 2,
   "metadata": {},
   "outputs": [],
   "source": [
    "my_dna = \"ATGCGTA\""
   ]
  },
  {
   "cell_type": "code",
   "execution_count": 3,
   "metadata": {},
   "outputs": [
    {
     "name": "stdout",
     "output_type": "stream",
     "text": [
      "ATGCGTA\n"
     ]
    }
   ],
   "source": [
    "print (my_dna)"
   ]
  },
  {
   "cell_type": "code",
   "execution_count": 4,
   "metadata": {},
   "outputs": [
    {
     "name": "stdout",
     "output_type": "stream",
     "text": [
      "TGGTCCA\n",
      "ATGCGTA\n"
     ]
    }
   ],
   "source": [
    "my_dna = \"TGGTCCA\"\n",
    "print (my_dna)\n",
    "\n",
    "banana = \"ATGCGTA\"\n",
    "print (banana)"
   ]
  },
  {
   "cell_type": "code",
   "execution_count": 5,
   "metadata": {},
   "outputs": [
    {
     "name": "stdout",
     "output_type": "stream",
     "text": [
      "AATTGGCC\n",
      "AAAATGC\n",
      "AAAATGC\n",
      "Hello world\n"
     ]
    }
   ],
   "source": [
    "# concatenation\n",
    "\n",
    "my_dna = \"AATT\" + \"GGCC\"\n",
    "\n",
    "print (my_dna)\n",
    "\n",
    "upstream = \"AAA\" \n",
    "downstream = \"GGG\"\n",
    "\n",
    "my_dna = upstream + \"ATGC\"\n",
    "\n",
    "print (my_dna)\n",
    "\n",
    "My_dna = upstream + downstream\n",
    "\n",
    "print (my_dna)\n",
    "\n",
    "\n",
    "\n",
    "print(\"Hello\" + \" \" + \"world\")\n"
   ]
  },
  {
   "cell_type": "code",
   "execution_count": 6,
   "metadata": {},
   "outputs": [
    {
     "name": "stdout",
     "output_type": "stream",
     "text": [
      "The length of the DNA sequence is 8\n",
      "7\n"
     ]
    }
   ],
   "source": [
    "my_dna = \"ATGCGAGT\"\n",
    "\n",
    "dna_length = len(my_dna)\n",
    "\n",
    "# print(\"The length of the DNA sequence is \" + dna_length), gave an error, solved as follow:\n",
    "\n",
    "print(\"The length of the DNA sequence is \" + str(dna_length))\n",
    "\n",
    "# To turn a string argument to a number use, int(), e.g.;\n",
    "number = 3 + int('4')\n",
    "print (number)\n",
    "\n",
    "\n"
   ]
  },
  {
   "cell_type": "code",
   "execution_count": 7,
   "metadata": {},
   "outputs": [
    {
     "name": "stdout",
     "output_type": "stream",
     "text": [
      "atgc\n",
      "ATGC\n",
      "Before: ATGC\n",
      "After: atgc\n",
      "Before: atgc\n",
      "After: ATGC\n",
      "ylspadktny\n",
      "ymtpadktnv\n",
      "vlspadktnv\n"
     ]
    }
   ],
   "source": [
    "# Change Case;\n",
    "\n",
    "# Print my DNA in lower case;\n",
    "my_dna = \"ATGC\"\n",
    "print(my_dna.lower())\n",
    "\n",
    "# Print my DNA in upper case;\n",
    "my_dna = \"atgc\"\n",
    "print(my_dna.upper())\n",
    "\n",
    "# Notice! lower() or upper() method does not change the variable, we can prove it using the following code;\n",
    "#for lower();\n",
    "my_dna = \"ATGC\" # so here our variable is ATGC.\n",
    "\n",
    "# print the variable before running lower() \n",
    "print(\"Before: \" + my_dna)\n",
    "\n",
    "# run the lower or upper method and store the result \n",
    "lowercase_dna = my_dna.lower()\n",
    "\n",
    "\n",
    "# print the variable again after running lower() \n",
    "print(\"After: \" + lowercase_dna)\n",
    "\n",
    "# For upper();\n",
    "\n",
    "my_dna = \"atgc\" \n",
    "\n",
    "# print the variable before running upper()\n",
    "print(\"Before: \" + my_dna)\n",
    "\n",
    "# run the lower or upper method and store the result \n",
    "uppercase_dna = my_dna.upper()\n",
    "\n",
    "# print the variable again after running upper()\n",
    "print(\"After: \" + uppercase_dna)\n",
    "\n",
    "#Replacement; this method takes two arguments\n",
    "\n",
    "protein = \"vlspadktnv\"\n",
    "# replace valine (v) with tyrosine (y);\n",
    "print(protein.replace(\"v\", \"y\"))\n",
    "# so, it replaces the first occurrence by the second string.\n",
    "\n",
    "# We can replace more than more character; e.g.\n",
    "print(protein.replace(\"vls\", \"ymt\"))\n",
    "\n",
    "# The origin variable is not affected\n",
    "print(protein)\n",
    "\n"
   ]
  },
  {
   "cell_type": "code",
   "execution_count": 8,
   "metadata": {},
   "outputs": [
    {
     "name": "stdout",
     "output_type": "stream",
     "text": [
      "pa\n",
      "vlspad\n",
      "spadktnv\n",
      "v\n",
      "valines: 2\n",
      "lsp: 1\n",
      "tryptophans: 0\n",
      "3\n",
      "6\n",
      "-1\n"
     ]
    }
   ],
   "source": [
    "# Extracting part of a string & counting and finding the substrings:\n",
    "#enclose a start and a stop position, separated by a colon, e.g.,\n",
    "protein = \"vlspadktnv\"\n",
    "\n",
    "# print positions 3 to 5; e.g.,\n",
    "print(protein[3:5])\n",
    "\n",
    "# or start at zero not one, e.g.,\n",
    "print(protein[0:6])\n",
    "\n",
    "#or if we miss out (did not type) the last (second position0 numer, it goes to the end of the string and print them all; e.g.,\n",
    "print(protein[2:])\n",
    "\n",
    "# we can get just a single position, e.g.,\n",
    "print(protein[0])\n",
    "\n",
    "\n",
    "\n",
    "# Counting and finding the substrings:\n",
    "protein = \"vlspadktnv\"\n",
    "\n",
    "# count aminoacids residues;\n",
    "valine_count = protein.count('v')\n",
    "lsp_count = protein.count('lsp')\n",
    "tryptophan_count = protein.count('w')\n",
    "\n",
    "# then print the counts; e.g.,\n",
    "print(\"valines: \" + str(valine_count))\n",
    "print(\"lsp: \" + str(lsp_count))\n",
    "print(\"tryptophans: \" + str(tryptophan_count))\n",
    "\n",
    "# Find the positions; e.g.\n",
    "protein = \"vlspadktnv\"\n",
    "print(str(protein.find('p')))\n",
    "print(str(protein.find('kt')))\n",
    "print(str(protein.find('w')))\n",
    "\n",
    "\n",
    "\n",
    "\n"
   ]
  },
  {
   "cell_type": "code",
   "execution_count": 1,
   "metadata": {},
   "outputs": [
    {
     "name": "stdout",
     "output_type": "stream",
     "text": [
      "ACTGATCGATTACGTATAGTATTTGCTATCATACATATATATCGATGCGTTCAT\n",
      "Length of this DNA sequence = 54 bp\n",
      "Numbers of A = 16\n",
      "Numbers of T = 21\n",
      "Numbers of C = 9\n",
      "Numbers of G = 8\n",
      "AT Content Percentage = 68.51851851851852 %\n",
      "CG Content Percentage = 31.48148148148148 %\n"
     ]
    }
   ],
   "source": [
    "#exercise 1 _ch02\n",
    "# 1exercise_ch2:\n",
    "# Calculate AT content from the following short DNA sequence:\n",
    "\n",
    "# ACTGATCGATTACGTATAGTATTTGCTATCATACATATATATCGATGCGTTCAT\n",
    "\n",
    "\n",
    "my_dna = \"ACTGATCGATTACGTATAGTATTTGCTATCATACATATATATCGATGCGTTCAT\"\n",
    "#my_dna = input()\n",
    "print (my_dna)\n",
    "\n",
    "dna_length = len(my_dna)\n",
    "#print(dna_length)\n",
    "print(\"Length of this DNA sequence = \" + str(dna_length) + \" bp\")\n",
    "A_number = my_dna.count('A')\n",
    "#print(A_number)\n",
    "print(\"Numbers of A = \" + str(A_number))\n",
    "T_number = my_dna.count('T')\n",
    "# print(T_number)\n",
    "print(\"Numbers of T = \" + str(T_number))\n",
    "\n",
    "C_number = my_dna.count('C')\n",
    "#print(C_number)\n",
    "print(\"Numbers of C = \" + str(C_number))\n",
    "\n",
    "G_number = my_dna.count('G')\n",
    "#print(G_number)\n",
    "print(\"Numbers of G = \" + str(G_number))\n",
    "\n",
    "\n",
    "AT_content = (A_number + T_number)/dna_length * 100\n",
    "#print(AT_content)\n",
    "print(\"AT Content Percentage = \" + str(AT_content) + \" %\")\n",
    "\n",
    "CG_content = (C_number + G_number)/dna_length * 100\n",
    "#print(CG_content)\n",
    "print(\"CG Content Percentage = \" + str(CG_content) + \" %\")\n",
    "\n",
    "\n",
    "\n"
   ]
  },
  {
   "cell_type": "code",
   "execution_count": 2,
   "metadata": {},
   "outputs": [
    {
     "name": "stdout",
     "output_type": "stream",
     "text": [
      "TGACTAGCTAATGCATATCATAAACGATAGTATGTATATATAGCTACGCAAGTA\n",
      "TGACTAGCTAATGCATATCATAAACGATAGTATGTATATATAGCTACGCAAGTA\n"
     ]
    }
   ],
   "source": [
    "# exercise 2 _ ch02\n",
    "# 2exercise_ch2:\n",
    "# Write a program that will print the complement of the following short DNA sequence:\n",
    "\n",
    "# ACTGATCGATTACGTATAGTATTTGCTATCATACATATATATCGATGCGTTCAT\n",
    "\n",
    "\n",
    "my_dna = \"ACTGATCGATTACGTATAGTATTTGCTATCATACATATATATCGATGCGTTCAT\"\n",
    "\n",
    "\n",
    "#for base in my_dna:\n",
    "#    if (base == \"A\"): print(\"T\", end = '')\n",
    "#    elif (base == \"T\"): print(\"A\", end = '')\n",
    "#    elif (base == \"C\"): print(\"G\", end = '')\n",
    "#    elif (base == \"G\"): print(\"C\", end = '')\n",
    "        \n",
    "        \n",
    " \n",
    "\n",
    "# end = '' is to put the result in a single line.\n",
    "\n",
    "#   my_dna =  \"ACTGATCGATTACGTATAGTATTTGCTATCATACATATATATCGATGCGTTCAT\"\n",
    "\n",
    "# The result = TGACTAGCTAATGCATATCATAAACGATAGTATGTATATATAGCTACGCAAGTA\n",
    "\n",
    "\n",
    "\n",
    "\n",
    "\n",
    "# The answer from the books solutions;\n",
    "\n",
    "#my_dna = \"ACTGATCGATTACGTATAGTATTTGCTATCATACATATATATCGATGCGTTCAT\"\n",
    "# replace A with T\n",
    "#replacement1 = my_dna.replace('A', 'T')\n",
    "\n",
    "\n",
    "# replace T with A\n",
    "#replacement2 = replacement1.replace('T', 'A')\n",
    "\n",
    "\n",
    "# replace C with G\n",
    "#replacement3 = replacement2.replace('C', 'G')\n",
    "\n",
    "\n",
    "# replace G with C\n",
    "#replacement4 = replacement3.replace('G', 'C')\n",
    "\n",
    "# print the result of the final replacement\n",
    "#print(replacement4)\n",
    "\n",
    "#my_dna = \"ACTGATCGATTACGTATAGTATTTGCTATCATACATATATATCGATGCGTTCAT\"\n",
    "# resut: = ACACAACCAAAACCAAAACAAAAACCAAACAAACAAAAAAAACCAACCCAACAA\n",
    "\n",
    "# Which is wrong; one solution is by double replacement one to different alphabet on to A, T, C, G.\n",
    "\n",
    "\n",
    "# replace A with T\n",
    "replacement1 = my_dna.replace('A', 'H')\n",
    "\n",
    "\n",
    "# replace T with A\n",
    "replacement2 = replacement1.replace('T', 'J')\n",
    "\n",
    "\n",
    "# replace C with G\n",
    "replacement3 = replacement2.replace('C', 'K')\n",
    "\n",
    "\n",
    "# replace G with C\n",
    "replacement4 = replacement3.replace('G', 'L')\n",
    "\n",
    "\n",
    "# replace A with T\n",
    "replacement5 = replacement4.replace('H', 'T')\n",
    "\n",
    "\n",
    "# replace T with A\n",
    "replacement6 = replacement5.replace('J', 'A')\n",
    "\n",
    "\n",
    "# replace C with G\n",
    "replacement7 = replacement6.replace('K', 'G')\n",
    "\n",
    "\n",
    "# replace G with C\n",
    "replacement8 = replacement7.replace('L', 'C')\n",
    "\n",
    "# print the result of the final replacement\n",
    "print(replacement8)\n",
    "\n",
    "\n",
    "#   my_dna =  \"ACTGATCGATTACGTATAGTATTTGCTATCATACATATATATCGATGCGTTCAT\"\n",
    "\n",
    "# The result = TGACTAGCTAATGCATATCATAAACGATAGTATGTATATATAGCTACGCAAGTA\n",
    "\n",
    "# Solved.\n",
    "\n",
    "\n",
    "\n",
    "# Second way to treat the above issue is the fact that replace() is case sensitive;\n",
    "\n",
    "# So we can replace first to lower cases, then at the end upper();\n",
    "\n",
    "# replace A with T\n",
    "replacement1 = my_dna.replace('A', 't')\n",
    "\n",
    "\n",
    "# replace T with A\n",
    "replacement2 = replacement1.replace('T', 'a')\n",
    "\n",
    "\n",
    "# replace C with G\n",
    "replacement3 = replacement2.replace('C', 'g')\n",
    "\n",
    "\n",
    "# replace G with C\n",
    "replacement4 = replacement3.replace('G', 'c')\n",
    "\n",
    "# print the result of the final replacement\n",
    "print(replacement4.upper())\n",
    "\n",
    "#   my_dna =  \"ACTGATCGATTACGTATAGTATTTGCTATCATACATATATATCGATGCGTTCAT\"\n",
    "\n",
    "# The result = TGACTAGCTAATGCATATCATAAACGATAGTATGTATATATAGCTACGCAAGTA\n",
    "\n",
    "# Solved.\n",
    "\n",
    "\n",
    "\n"
   ]
  },
  {
   "cell_type": "code",
   "execution_count": 3,
   "metadata": {},
   "outputs": [
    {
     "name": "stdout",
     "output_type": "stream",
     "text": [
      "Length of first fragmet is 22\n",
      "Length of second fragmet is 33\n"
     ]
    }
   ],
   "source": [
    "# 3exercise_ch2:\n",
    "\n",
    "# The following short DNA sequence contains the EcoRI restriction enzyme site, cuts at G*AATTC (* = position of cut),\n",
    "# Write a program which will calculate the size of the two fragments that will be produced when the DNA sequence is digested with EcoRI.\n",
    "\n",
    "# ACTGATCGATTACGTATAGTAGAATTCTATCATACATATATATCGATGCGTTCAT\n",
    "\n",
    "\n",
    "my_dna = \"ACTGATCGATTACGTATAGTAGAATTCTATCATACATATATATCGATGCGTTCAT\"\n",
    "firstfraglen = my_dna.find(\"AATTC\")\n",
    "print(\"Length of first fragmet is \" + str(firstfraglen))\n",
    "secondfraglen = len(my_dna) - firstfraglen\n",
    "print(\"Length of second fragmet is \" + str(secondfraglen))\n",
    "\n",
    "\n",
    "# got help from the book's solution\n"
   ]
  },
  {
   "cell_type": "code",
   "execution_count": 4,
   "metadata": {},
   "outputs": [
    {
     "name": "stdout",
     "output_type": "stream",
     "text": [
      "The coding sequence is ATCGATCGATCGATCGACTGACTAGTCATAGCTATGCATGTAGCTACTCGATCGATCGATCGATCGATATCGATGCATCGACTACTAT\n",
      "ATCGATCGATCGATCGACTGACTAGTCATAGCTATGCATGTAGCTACTCGATCGATCGATCGATCGATATCGATGCATCGACTACTAT\n",
      "76.52173913043478\n",
      "88\n",
      "115\n",
      "The original DNA sequence is ATCGATCGATCGATCGACTGACTAGTCATAGCTATGCATGTAGCTACTCGATCGATCGATCGAtcgatcgatcgatcatgctatcatcgaTCGATATCGATGCATCGACTACTAT\n",
      "The original DNA sequence is ATCGATCGATCGATCGACTGACTAGTCATAGCTATGCATGTAGCTACTCGATCGATCGATCGATCGATCGATCGATCATGCTATCATCGATCGATATCGATGCATCGACTACTAT\n"
     ]
    }
   ],
   "source": [
    "# 4exercise_ch2:\n",
    "\n",
    "# Splicing out introns, part one:\n",
    "\n",
    "# Here is a short sectin of genomic DNA:\n",
    "# ATCGATCGATCGATCGACTGACTAGTCATAGCTATGCATGTAGCTACTCGATCGATCGATCGATCGATCGATCGATCATGCTATCATCGATCGATATCGATGCATCGACTACTAT\n",
    "# It comprises two exons and one introns. The first exon runs from the start of the sequence to the sixty-third character, ...\n",
    "# and the second exon runs from the ninety-first character to the end if the sequence. Write a program that will print just ...\n",
    "# the coding regions of the DNA sequence.\n",
    "\n",
    "my_dna = \"ATCGATCGATCGATCGACTGACTAGTCATAGCTATGCATGTAGCTACTCGATCGATCGATCGATCGATCGATCGATCATGCTATCATCGATCGATATCGATGCATCGACTACTAT\"\n",
    "first_exon = my_dna[0:63]\n",
    "second_exon = my_dna[90:]\n",
    "#second_exon = my_dna[90:len(my_dna)] # This len(my_dna) is used instead of the last character number\n",
    "\n",
    "print (\"The coding sequence is \" + first_exon + second_exon)\n",
    "#print (first_exon)\n",
    "#print (second_exon)\n",
    "\n",
    "\n",
    "\n",
    "# Splicing out introns, part two:\n",
    "\n",
    "# Using the data from part one, write a program that will calculate what percentage of the DNA sequence is coding:\n",
    "\n",
    "coding_regions = my_dna[0:63] + my_dna[90:]\n",
    "print (coding_regions)\n",
    "codreg_length = len(coding_regions)\n",
    "dna_length = len(my_dna)\n",
    "codreg_length = len(coding_regions)\n",
    "print(codreg_length / dna_length * 100)\n",
    "\n",
    "print (codreg_length)\n",
    "print (dna_length)\n",
    "\n",
    "\n",
    "\n",
    "# Splicing out introns, part three:\n",
    "# Using the data from part one, write a program that will print out the original genomic DNA sequence with ...\n",
    "# coding bases in uppercase and non-cding bases in lowercase\n",
    "\n",
    "\n",
    "first_exon = my_dna[0:63]\n",
    "second_exon = my_dna[90:]\n",
    "intron = my_dna[63:90]\n",
    "print (\"The original DNA sequence is \" + first_exon.upper() + intron.lower() + second_exon.upper())\n",
    "print (\"The original DNA sequence is \" + my_dna)\n",
    "\n",
    "# = \"A(0)TCGATCGATCGATCGACTGACTAGTCATAGCTATGCATGTAGCTACTCGATCGATCGATCGA(62)[t(63)cgatcgatcgatcatgctatcatcga(89)=intron]T(90)CGATATCGATGCATCGACTACTAT\"\n",
    "\n",
    "#A = \"ATCGATCGATCGATCGACTGACTAGTCATAGCTATGCATGTAGCTACTCGATCGATCGATCGA\"\n",
    "#Al = len(A)\n",
    "#print (A)\n",
    "#print (Al)\n",
    "#B = \"TCGATATCGATGCATCGACTACTAT\"\n",
    "#Bl = len(B)\n",
    "#print (B)\n",
    "#print(Bl)\n",
    "#intron = \"TCGATCGATCGATCATGCTATCATCGA\"\n",
    "#intronl = len(intron)\n",
    "#print (intron)\n",
    "#print(intronl)\n",
    "#first_exon_length = len(first_exon)\n",
    "#print (\"The length of the 1st exon is \" + (str(first_exon_length)))\n",
    "#second_exon_length = len(second_exon)\n",
    "#print (\"The length of the 2nd exon is \" + (str(second_exon_length)))\n",
    "#intron_length = len(intron)\n",
    "#print (\"The length of the intron is \" + (str(intron_length)))\n",
    "\n"
   ]
  },
  {
   "cell_type": "code",
   "execution_count": null,
   "metadata": {},
   "outputs": [],
   "source": []
  }
 ],
 "metadata": {
  "kernelspec": {
   "display_name": "Python 3",
   "language": "python",
   "name": "python3"
  },
  "language_info": {
   "codemirror_mode": {
    "name": "ipython",
    "version": 3
   },
   "file_extension": ".py",
   "mimetype": "text/x-python",
   "name": "python",
   "nbconvert_exporter": "python",
   "pygments_lexer": "ipython3",
   "version": "3.7.4"
  }
 },
 "nbformat": 4,
 "nbformat_minor": 2
}
