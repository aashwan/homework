{
 "cells": [
  {
   "cell_type": "code",
   "execution_count": 1,
   "metadata": {},
   "outputs": [
    {
     "name": "stdout",
     "output_type": "stream",
     "text": [
      "hello world\n"
     ]
    }
   ],
   "source": [
    "\n",
    "print (\"hello world\")"
   ]
  },
  {
   "cell_type": "code",
   "execution_count": 2,
   "metadata": {},
   "outputs": [],
   "source": [
    "my_dna = \"ATGCGTA\""
   ]
  },
  {
   "cell_type": "code",
   "execution_count": 3,
   "metadata": {},
   "outputs": [
    {
     "name": "stdout",
     "output_type": "stream",
     "text": [
      "ATGCGTA\n"
     ]
    }
   ],
   "source": [
    "print (my_dna)"
   ]
  },
  {
   "cell_type": "code",
   "execution_count": 4,
   "metadata": {},
   "outputs": [
    {
     "name": "stdout",
     "output_type": "stream",
     "text": [
      "TGGTCCA\n",
      "ATGCGTA\n"
     ]
    }
   ],
   "source": [
    "my_dna = \"TGGTCCA\"\n",
    "print (my_dna)\n",
    "\n",
    "banana = \"ATGCGTA\"\n",
    "print (banana)"
   ]
  },
  {
   "cell_type": "code",
   "execution_count": 5,
   "metadata": {},
   "outputs": [
    {
     "name": "stdout",
     "output_type": "stream",
     "text": [
      "AATTGGCC\n",
      "AAAATGC\n",
      "AAAATGC\n",
      "Hello world\n"
     ]
    }
   ],
   "source": [
    "# concatenation\n",
    "\n",
    "my_dna = \"AATT\" + \"GGCC\"\n",
    "\n",
    "print (my_dna)\n",
    "\n",
    "upstream = \"AAA\" \n",
    "downstream = \"GGG\"\n",
    "\n",
    "my_dna = upstream + \"ATGC\"\n",
    "\n",
    "print (my_dna)\n",
    "\n",
    "My_dna = upstream + downstream\n",
    "\n",
    "print (my_dna)\n",
    "\n",
    "\n",
    "\n",
    "print(\"Hello\" + \" \" + \"world\")\n"
   ]
  },
  {
   "cell_type": "code",
   "execution_count": 6,
   "metadata": {},
   "outputs": [
    {
     "name": "stdout",
     "output_type": "stream",
     "text": [
      "The length of the DNA sequence is 8\n",
      "7\n"
     ]
    }
   ],
   "source": [
    "my_dna = \"ATGCGAGT\"\n",
    "\n",
    "dna_length = len(my_dna)\n",
    "\n",
    "# print(\"The length of the DNA sequence is \" + dna_length), gave an error, solved as follow:\n",
    "\n",
    "print(\"The length of the DNA sequence is \" + str(dna_length))\n",
    "\n",
    "# To turn a string argument to a number use, int(), e.g.;\n",
    "number = 3 + int('4')\n",
    "print (number)\n",
    "\n",
    "\n"
   ]
  },
  {
   "cell_type": "code",
   "execution_count": 7,
   "metadata": {},
   "outputs": [
    {
     "name": "stdout",
     "output_type": "stream",
     "text": [
      "atgc\n",
      "ATGC\n",
      "Before: ATGC\n",
      "After: atgc\n",
      "Before: atgc\n",
      "After: ATGC\n",
      "ylspadktny\n",
      "ymtpadktnv\n",
      "vlspadktnv\n"
     ]
    }
   ],
   "source": [
    "# Change Case;\n",
    "\n",
    "# Print my DNA in lower case;\n",
    "my_dna = \"ATGC\"\n",
    "print(my_dna.lower())\n",
    "\n",
    "# Print my DNA in upper case;\n",
    "my_dna = \"atgc\"\n",
    "print(my_dna.upper())\n",
    "\n",
    "# Notice! lower() or upper() method does not change the variable, we can prove it using the following code;\n",
    "#for lower();\n",
    "my_dna = \"ATGC\" # so here our variable is ATGC.\n",
    "\n",
    "# print the variable before running lower() \n",
    "print(\"Before: \" + my_dna)\n",
    "\n",
    "# run the lower or upper method and store the result \n",
    "lowercase_dna = my_dna.lower()\n",
    "\n",
    "\n",
    "# print the variable again after running lower() \n",
    "print(\"After: \" + lowercase_dna)\n",
    "\n",
    "# For upper();\n",
    "\n",
    "my_dna = \"atgc\" \n",
    "\n",
    "# print the variable before running upper()\n",
    "print(\"Before: \" + my_dna)\n",
    "\n",
    "# run the lower or upper method and store the result \n",
    "uppercase_dna = my_dna.upper()\n",
    "\n",
    "# print the variable again after running upper()\n",
    "print(\"After: \" + uppercase_dna)\n",
    "\n",
    "#Replacement; this method takes two arguments\n",
    "\n",
    "protein = \"vlspadktnv\"\n",
    "# replace valine (v) with tyrosine (y);\n",
    "print(protein.replace(\"v\", \"y\"))\n",
    "# so, it replaces the first occurrence by the second string.\n",
    "\n",
    "# We can replace more than more character; e.g.\n",
    "print(protein.replace(\"vls\", \"ymt\"))\n",
    "\n",
    "# The origin variable is not affected\n",
    "print(protein)\n",
    "\n"
   ]
  },
  {
   "cell_type": "code",
   "execution_count": 8,
   "metadata": {},
   "outputs": [
    {
     "name": "stdout",
     "output_type": "stream",
     "text": [
      "pa\n",
      "vlspad\n",
      "spadktnv\n",
      "v\n",
      "valines: 2\n",
      "lsp: 1\n",
      "tryptophans: 0\n",
      "3\n",
      "6\n",
      "-1\n"
     ]
    }
   ],
   "source": [
    "# Extracting part of a string & counting and finding the substrings:\n",
    "#enclose a start and a stop position, separated by a colon, e.g.,\n",
    "protein = \"vlspadktnv\"\n",
    "\n",
    "# print positions 3 to 5; e.g.,\n",
    "print(protein[3:5])\n",
    "\n",
    "# or start at zero not one, e.g.,\n",
    "print(protein[0:6])\n",
    "\n",
    "#or if we miss out (did not type) the last (second position0 numer, it goes to the end of the string and print them all; e.g.,\n",
    "print(protein[2:])\n",
    "\n",
    "# we can get just a single position, e.g.,\n",
    "print(protein[0])\n",
    "\n",
    "\n",
    "\n",
    "# Counting and finding the substrings:\n",
    "protein = \"vlspadktnv\"\n",
    "\n",
    "# count aminoacids residues;\n",
    "valine_count = protein.count('v')\n",
    "lsp_count = protein.count('lsp')\n",
    "tryptophan_count = protein.count('w')\n",
    "\n",
    "# then print the counts; e.g.,\n",
    "print(\"valines: \" + str(valine_count))\n",
    "print(\"lsp: \" + str(lsp_count))\n",
    "print(\"tryptophans: \" + str(tryptophan_count))\n",
    "\n",
    "# Find the positions; e.g.\n",
    "protein = \"vlspadktnv\"\n",
    "print(str(protein.find('p')))\n",
    "print(str(protein.find('kt')))\n",
    "print(str(protein.find('w')))\n",
    "\n",
    "\n",
    "\n",
    "\n"
   ]
  },
  {
   "cell_type": "code",
   "execution_count": null,
   "metadata": {},
   "outputs": [],
   "source": []
  }
 ],
 "metadata": {
  "kernelspec": {
   "display_name": "Python 3",
   "language": "python",
   "name": "python3"
  },
  "language_info": {
   "codemirror_mode": {
    "name": "ipython",
    "version": 3
   },
   "file_extension": ".py",
   "mimetype": "text/x-python",
   "name": "python",
   "nbconvert_exporter": "python",
   "pygments_lexer": "ipython3",
   "version": "3.7.4"
  }
 },
 "nbformat": 4,
 "nbformat_minor": 2
}
