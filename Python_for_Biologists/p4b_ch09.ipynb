{
 "cells": [
  {
   "cell_type": "code",
   "execution_count": 1,
   "metadata": {},
   "outputs": [
    {
     "data": {
      "text/plain": [
       "4"
      ]
     },
     "execution_count": 1,
     "metadata": {},
     "output_type": "execute_result"
    }
   ],
   "source": [
    "my_file=open(\"OLD.txt\",\"w\")\n",
    "my_file.write(\"ATCG\")"
   ]
  },
  {
   "cell_type": "code",
   "execution_count": 2,
   "metadata": {},
   "outputs": [],
   "source": [
    "import os\n",
    "import shutil"
   ]
  },
  {
   "cell_type": "code",
   "execution_count": 3,
   "metadata": {},
   "outputs": [],
   "source": [
    "# renaming text files OLD by NEW;\n",
    "os.rename(\"OLD.txt\", \"NEW.txt\")"
   ]
  },
  {
   "cell_type": "code",
   "execution_count": 4,
   "metadata": {},
   "outputs": [],
   "source": [
    "os.mkdir(\"Directory1\")"
   ]
  },
  {
   "cell_type": "code",
   "execution_count": 5,
   "metadata": {},
   "outputs": [],
   "source": [
    "os.rename(\"Directory1\", \"Directory2\")"
   ]
  },
  {
   "cell_type": "code",
   "execution_count": 6,
   "metadata": {},
   "outputs": [
    {
     "data": {
      "text/plain": [
       "'OLD.txt'"
      ]
     },
     "execution_count": 6,
     "metadata": {},
     "output_type": "execute_result"
    }
   ],
   "source": [
    "shutil.copy(\"NEW.txt\", \"OLD.txt\")"
   ]
  },
  {
   "cell_type": "code",
   "execution_count": 7,
   "metadata": {},
   "outputs": [
    {
     "data": {
      "text/plain": [
       "True"
      ]
     },
     "execution_count": 7,
     "metadata": {},
     "output_type": "execute_result"
    }
   ],
   "source": [
    "os.path.exists(\"OLD.txt\")"
   ]
  },
  {
   "cell_type": "code",
   "execution_count": 9,
   "metadata": {},
   "outputs": [],
   "source": [
    "os.remove(\"OLD.txt\")"
   ]
  },
  {
   "cell_type": "code",
   "execution_count": 10,
   "metadata": {},
   "outputs": [
    {
     "data": {
      "text/plain": [
       "False"
      ]
     },
     "execution_count": 10,
     "metadata": {},
     "output_type": "execute_result"
    }
   ],
   "source": [
    "os.path.exists(\"OLD.txt\")"
   ]
  },
  {
   "cell_type": "code",
   "execution_count": 11,
   "metadata": {},
   "outputs": [
    {
     "data": {
      "text/plain": [
       "['Sample.fastq',\n",
       " 'BIOL5153',\n",
       " '.config',\n",
       " 'Music',\n",
       " '.fop',\n",
       " 'Directory2',\n",
       " '.condarc',\n",
       " 'CLC_Data',\n",
       " '.bashrcy',\n",
       " 'sequence_length.txt',\n",
       " 'p4b_ch03.ipynb',\n",
       " '.bash_profile.save.1',\n",
       " '.install4j',\n",
       " 'Untitled1.ipynb',\n",
       " 'Box',\n",
       " '.x-formation',\n",
       " '.DS_Store',\n",
       " '.Box_UIServer',\n",
       " 'shwani_assn04.xlsx',\n",
       " '1Jupyter-Notebook.ipynb',\n",
       " 'p4b_ch05.ipynb',\n",
       " '.CFUserTextEncoding',\n",
       " '.bash_profile.save',\n",
       " 'FASTA.fasta',\n",
       " 'Untitled3.ipynb',\n",
       " 'parseGFF.py',\n",
       " '.subversion',\n",
       " '.bashrc',\n",
       " 'p4b_ch02.ipynb',\n",
       " 'Untitled.ipynb',\n",
       " '.zshrc.pre-oh-my-zsh',\n",
       " '.zshrc',\n",
       " '.templateengine',\n",
       " 'OneDrive',\n",
       " 'Untitled4.ipynb',\n",
       " '.local',\n",
       " 'Bandage_Ubuntu_dynamic_v0_8_1.zip',\n",
       " 'Folder2',\n",
       " 'blood_on_the_tracks.txt',\n",
       " 'Pictures',\n",
       " 'Sample_fastqc.zip',\n",
       " 'dna.txt',\n",
       " 'FastQC.1451797.torque',\n",
       " 'HIJ789.fasta',\n",
       " '.Box_SyncToStreem',\n",
       " '.bundle',\n",
       " 'homebrew',\n",
       " 'p4b_ch04.ipynb',\n",
       " 'ABC123.fasta',\n",
       " '.zsh_history',\n",
       " 'Untitled2.ipynb',\n",
       " '.ipython',\n",
       " 'Desktop',\n",
       " 'Library',\n",
       " '.matplotlib',\n",
       " 'my_dna.txt',\n",
       " '.lesshst',\n",
       " '.oracle_jre_usage',\n",
       " 'Parallels',\n",
       " '.IdentityService',\n",
       " '.bash_profile.pysave',\n",
       " 'miniconda.sh',\n",
       " 'local',\n",
       " '.android',\n",
       " 'watermelon.gff',\n",
       " 'parseGFF.ipynb',\n",
       " '.bash_sessions',\n",
       " 'practicei.py',\n",
       " 'Public',\n",
       " '.dropbox',\n",
       " 'Virtual Machines.localized',\n",
       " '.bash_profile-anaconda3.bak',\n",
       " 'Deleteme.ipynb',\n",
       " 'firstfileonpinnacle',\n",
       " '.zshenv',\n",
       " '.idlerc',\n",
       " '.zcompdump-Abdulkarim’s MacBook Pro-5.7.1',\n",
       " 'watermelon.aa',\n",
       " 'out2.txt',\n",
       " '.anaconda',\n",
       " '.ssh',\n",
       " 'Applications (Parallels)',\n",
       " 'Movies',\n",
       " 'Applications',\n",
       " 'DEF456.fasta',\n",
       " 'Practicei.py.ipynb',\n",
       " '.AliView',\n",
       " 'Dropbox',\n",
       " '.Box_EngineServer',\n",
       " 'opt',\n",
       " '.Trash',\n",
       " 'out1.txt',\n",
       " '--help',\n",
       " '.ipynb_checkpoints',\n",
       " '.jupyter',\n",
       " 'top.fasta',\n",
       " 'HPC_Workshop_onFeb2.5.2020',\n",
       " 'Documents',\n",
       " 'sequences.fasta',\n",
       " 'p4b_ch09.ipynb',\n",
       " '.swt',\n",
       " '1ch02-Py4Bio.ipynb',\n",
       " 'shwani_assn04.5.pbs',\n",
       " '.mono',\n",
       " 'cat.txt',\n",
       " '.spss',\n",
       " '.pki',\n",
       " '.bash_profile',\n",
       " '.gem',\n",
       " 'shwani_assn04.4.pbs',\n",
       " '.Xauthority',\n",
       " '.oh-my-zsh',\n",
       " 'Downloads',\n",
       " '.python_history',\n",
       " '.cache',\n",
       " '.gitconfig',\n",
       " 'lists_python.ipynb',\n",
       " 'shwani_assn04.1.pbs',\n",
       " '.Box_StreemToSync',\n",
       " 'miniconda',\n",
       " 'CLCdatabases',\n",
       " '.bash_history',\n",
       " '.viminfo',\n",
       " 'shwani_assn04.3.pbs',\n",
       " '.conda',\n",
       " 'shwani_assn04.2.pbs',\n",
       " 'NEW.txt',\n",
       " 'watermelon.gbf']"
      ]
     },
     "execution_count": 11,
     "metadata": {},
     "output_type": "execute_result"
    }
   ],
   "source": [
    "os.listdir()"
   ]
  },
  {
   "cell_type": "code",
   "execution_count": 12,
   "metadata": {},
   "outputs": [
    {
     "name": "stdout",
     "output_type": "stream",
     "text": [
      "Sample.fastq\n",
      "BIOL5153\n",
      ".config\n",
      "Music\n",
      ".fop\n",
      "Directory2\n",
      ".condarc\n",
      "CLC_Data\n",
      ".bashrcy\n",
      "sequence_length.txt\n",
      "p4b_ch03.ipynb\n",
      ".bash_profile.save.1\n",
      ".install4j\n",
      "Untitled1.ipynb\n",
      "Box\n",
      ".x-formation\n",
      ".DS_Store\n",
      ".Box_UIServer\n",
      "shwani_assn04.xlsx\n",
      "1Jupyter-Notebook.ipynb\n",
      "p4b_ch05.ipynb\n",
      ".CFUserTextEncoding\n",
      ".bash_profile.save\n",
      "FASTA.fasta\n",
      "Untitled3.ipynb\n",
      "parseGFF.py\n",
      ".subversion\n",
      ".bashrc\n",
      "p4b_ch02.ipynb\n",
      "Untitled.ipynb\n",
      ".zshrc.pre-oh-my-zsh\n",
      ".zshrc\n",
      ".templateengine\n",
      "OneDrive\n",
      "Untitled4.ipynb\n",
      ".local\n",
      "Bandage_Ubuntu_dynamic_v0_8_1.zip\n",
      "Folder2\n",
      "blood_on_the_tracks.txt\n",
      "Pictures\n",
      "Sample_fastqc.zip\n",
      "dna.txt\n",
      "FastQC.1451797.torque\n",
      "HIJ789.fasta\n",
      ".Box_SyncToStreem\n",
      ".bundle\n",
      "homebrew\n",
      "p4b_ch04.ipynb\n",
      "ABC123.fasta\n",
      ".zsh_history\n",
      "Untitled2.ipynb\n",
      ".ipython\n",
      "Desktop\n",
      "Library\n",
      ".matplotlib\n",
      "my_dna.txt\n",
      ".lesshst\n",
      ".oracle_jre_usage\n",
      "Parallels\n",
      ".IdentityService\n",
      ".bash_profile.pysave\n",
      "miniconda.sh\n",
      "local\n",
      ".android\n",
      "watermelon.gff\n",
      "parseGFF.ipynb\n",
      ".bash_sessions\n",
      "practicei.py\n",
      "Public\n",
      ".dropbox\n",
      "Virtual Machines.localized\n",
      ".bash_profile-anaconda3.bak\n",
      "Deleteme.ipynb\n",
      "firstfileonpinnacle\n",
      ".zshenv\n",
      ".idlerc\n",
      ".zcompdump-Abdulkarim’s MacBook Pro-5.7.1\n",
      "watermelon.aa\n",
      "out2.txt\n",
      ".anaconda\n",
      ".ssh\n",
      "Applications (Parallels)\n",
      "Movies\n",
      "Applications\n",
      "DEF456.fasta\n",
      "Practicei.py.ipynb\n",
      ".AliView\n",
      "Dropbox\n",
      ".Box_EngineServer\n",
      "opt\n",
      ".Trash\n",
      "out1.txt\n",
      "--help\n",
      ".ipynb_checkpoints\n",
      ".jupyter\n",
      "top.fasta\n",
      "HPC_Workshop_onFeb2.5.2020\n",
      "Documents\n",
      "sequences.fasta\n",
      "p4b_ch09.ipynb\n",
      ".swt\n",
      "1ch02-Py4Bio.ipynb\n",
      "shwani_assn04.5.pbs\n",
      ".mono\n",
      "cat.txt\n",
      ".spss\n",
      ".pki\n",
      ".bash_profile\n",
      ".gem\n",
      "shwani_assn04.4.pbs\n",
      ".Xauthority\n",
      ".oh-my-zsh\n",
      "Downloads\n",
      ".python_history\n",
      ".cache\n",
      ".gitconfig\n",
      "lists_python.ipynb\n",
      "shwani_assn04.1.pbs\n",
      ".Box_StreemToSync\n",
      "miniconda\n",
      "CLCdatabases\n",
      ".bash_history\n",
      ".viminfo\n",
      "shwani_assn04.3.pbs\n",
      ".conda\n",
      "shwani_assn04.2.pbs\n",
      "NEW.txt\n",
      "watermelon.gbf\n"
     ]
    }
   ],
   "source": [
    "for item in os.listdir():\n",
    "    print(item)"
   ]
  },
  {
   "cell_type": "code",
   "execution_count": 13,
   "metadata": {},
   "outputs": [],
   "source": [
    "import subprocess"
   ]
  },
  {
   "cell_type": "code",
   "execution_count": 14,
   "metadata": {},
   "outputs": [
    {
     "data": {
      "text/plain": [
       "0"
      ]
     },
     "execution_count": 14,
     "metadata": {},
     "output_type": "execute_result"
    }
   ],
   "source": [
    "subprocess.call(\"/bin/date\")"
   ]
  },
  {
   "cell_type": "code",
   "execution_count": 15,
   "metadata": {},
   "outputs": [
    {
     "data": {
      "text/plain": [
       "0"
      ]
     },
     "execution_count": 15,
     "metadata": {},
     "output_type": "execute_result"
    }
   ],
   "source": [
    "subprocess.call(\"/bin/date\", shell=True)"
   ]
  },
  {
   "cell_type": "code",
   "execution_count": null,
   "metadata": {},
   "outputs": [],
   "source": [
    "accession = input(\"Enter the accession name\")"
   ]
  },
  {
   "cell_type": "code",
   "execution_count": 8,
   "metadata": {},
   "outputs": [
    {
     "name": "stdout",
     "output_type": "stream",
     "text": [
      "['/Users/abdulkarimshwani/opt/anaconda3/lib/python3.7/site-packages/ipykernel_launcher.py', '-f', '/Users/abdulkarimshwani/Library/Jupyter/runtime/kernel-e240ba8b-5177-4705-b0f3-ad0f20ee5f17.json']\n"
     ]
    }
   ],
   "source": [
    "import sys \n",
    "print(sys.argv)"
   ]
  },
  {
   "cell_type": "code",
   "execution_count": null,
   "metadata": {},
   "outputs": [],
   "source": []
  },
  {
   "cell_type": "code",
   "execution_count": null,
   "metadata": {},
   "outputs": [],
   "source": []
  },
  {
   "cell_type": "code",
   "execution_count": null,
   "metadata": {},
   "outputs": [],
   "source": []
  },
  {
   "cell_type": "code",
   "execution_count": null,
   "metadata": {},
   "outputs": [],
   "source": []
  },
  {
   "cell_type": "code",
   "execution_count": null,
   "metadata": {},
   "outputs": [],
   "source": []
  },
  {
   "cell_type": "code",
   "execution_count": null,
   "metadata": {},
   "outputs": [],
   "source": []
  },
  {
   "cell_type": "code",
   "execution_count": null,
   "metadata": {},
   "outputs": [],
   "source": []
  }
 ],
 "metadata": {
  "kernelspec": {
   "display_name": "Python 3",
   "language": "python",
   "name": "python3"
  },
  "language_info": {
   "codemirror_mode": {
    "name": "ipython",
    "version": 3
   },
   "file_extension": ".py",
   "mimetype": "text/x-python",
   "name": "python",
   "nbconvert_exporter": "python",
   "pygments_lexer": "ipython3",
   "version": "3.7.4"
  }
 },
 "nbformat": 4,
 "nbformat_minor": 2
}
