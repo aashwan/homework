{
 "cells": [
  {
   "cell_type": "code",
   "execution_count": 18,
   "metadata": {},
   "outputs": [
    {
     "name": "stdout",
     "output_type": "stream",
     "text": [
      "Important DNA sequence\n",
      "ATCGTGCAGTCGATCGCGTAGCAGCTATATATAGCGCGCGGGCCTTAAATATATTTAAACGATCG\n",
      "\n",
      "\n",
      "\n"
     ]
    }
   ],
   "source": [
    "# OPENING FILES;\n",
    "# Files, contents and filenames;\n",
    "my_file_name = open(\"dna.txt\",\"r\")\n",
    "my_file_contents = my_file_name.read()\n",
    "print(my_file_contents)\n",
    "my_file.close()"
   ]
  },
  {
   "cell_type": "code",
   "execution_count": null,
   "metadata": {},
   "outputs": [],
   "source": [
    "# Dealing with new lines; rstrip() is a method used for removing new lines;\n",
    "my_file_name = open(\"dna.txt\")\n",
    "my_file_contents = my_file_name.read()\n",
    "print(my_contents)\n",
    "my_file.close()"
   ]
  },
  {
   "cell_type": "code",
   "execution_count": 14,
   "metadata": {},
   "outputs": [],
   "source": [
    "my_dna = my_file_contents.rstrip(\"\\n\")"
   ]
  },
  {
   "cell_type": "code",
   "execution_count": null,
   "metadata": {},
   "outputs": [],
   "source": [
    "my_file_name = open(\"dna.txt\", \"r\")\n",
    "my_file_contents = my_file_name.read()\n",
    "print(my_contents)\n",
    "my_file.close()"
   ]
  },
  {
   "cell_type": "code",
   "execution_count": null,
   "metadata": {},
   "outputs": [],
   "source": [
    "dna_length = len(my_dna)\n",
    "print(\"sequence is \" + my_dna + \" and length is \" + str(dna_length)\")"
   ]
  },
  {
   "cell_type": "code",
   "execution_count": 20,
   "metadata": {},
   "outputs": [
    {
     "ename": "FileNotFoundError",
     "evalue": "[Errno 2] No such file or directory: 'nonexistent.txt'",
     "output_type": "error",
     "traceback": [
      "\u001b[0;31m---------------------------------------------------------------------------\u001b[0m",
      "\u001b[0;31mFileNotFoundError\u001b[0m                         Traceback (most recent call last)",
      "\u001b[0;32m<ipython-input-20-c8ba01483ec8>\u001b[0m in \u001b[0;36m<module>\u001b[0;34m\u001b[0m\n\u001b[1;32m      1\u001b[0m \u001b[0;31m# Dealing with Missing files;\u001b[0m\u001b[0;34m\u001b[0m\u001b[0;34m\u001b[0m\u001b[0;34m\u001b[0m\u001b[0m\n\u001b[1;32m      2\u001b[0m \u001b[0;31m#Reading a file that does not exist;\u001b[0m\u001b[0;34m\u001b[0m\u001b[0;34m\u001b[0m\u001b[0;34m\u001b[0m\u001b[0m\n\u001b[0;32m----> 3\u001b[0;31m \u001b[0mmy_file2\u001b[0m\u001b[0;34m=\u001b[0m\u001b[0mopen\u001b[0m\u001b[0;34m(\u001b[0m\u001b[0;34m\"nonexistent.txt\"\u001b[0m\u001b[0;34m)\u001b[0m\u001b[0;34m\u001b[0m\u001b[0;34m\u001b[0m\u001b[0m\n\u001b[0m",
      "\u001b[0;31mFileNotFoundError\u001b[0m: [Errno 2] No such file or directory: 'nonexistent.txt'"
     ]
    }
   ],
   "source": [
    "# Dealing with Missing files;\n",
    "#Reading a file that does not exist;\n",
    "my_file2=open(\"nonexistent.txt\")"
   ]
  },
  {
   "cell_type": "code",
   "execution_count": 26,
   "metadata": {},
   "outputs": [],
   "source": [
    "# Writing text to files;\n",
    "# Writing text t files: To create a file like txt,\n",
    "my_file3 = open(\"dna.txt\", \"w\")\n",
    "my_file3.write(\"\"\"RNA \"\"\")\n",
    "my_file3.close()"
   ]
  },
  {
   "cell_type": "code",
   "execution_count": 27,
   "metadata": {},
   "outputs": [],
   "source": [
    "# To append to the reviously cretaed fle lie txt\n",
    "my_file3 = open(\"dna.txt\", \"a\")\n",
    "my_file3.write(\"\"\"sequence\n",
    "MATVRE\"\"\")\n",
    "my_file3.close()"
   ]
  },
  {
   "cell_type": "code",
   "execution_count": 28,
   "metadata": {},
   "outputs": [
    {
     "name": "stdout",
     "output_type": "stream",
     "text": [
      "RNA sequence\n",
      "MATVRE\n"
     ]
    }
   ],
   "source": [
    "# Opening files for writing; To open the file in python; \n",
    "# Closing files;\n",
    "my_file3 = open(\"dna.txt\", \"r\")\n",
    "text3=my_file3.read()\n",
    "print(text3)\n",
    "my_file3.close()"
   ]
  },
  {
   "cell_type": "code",
   "execution_count": null,
   "metadata": {},
   "outputs": [],
   "source": [
    "# Paths and folders; We need to give file name if we work in the same directory of the file, \n",
    "# if not we need to give the path goes to the file (or folder);\n",
    "my_file = open(\"c:/windows/Desktop/myfoldr/myfile.txt\")"
   ]
  },
  {
   "cell_type": "code",
   "execution_count": null,
   "metadata": {},
   "outputs": [],
   "source": []
  }
 ],
 "metadata": {
  "kernelspec": {
   "display_name": "Python 3",
   "language": "python",
   "name": "python3"
  },
  "language_info": {
   "codemirror_mode": {
    "name": "ipython",
    "version": 3
   },
   "file_extension": ".py",
   "mimetype": "text/x-python",
   "name": "python",
   "nbconvert_exporter": "python",
   "pygments_lexer": "ipython3",
   "version": "3.7.4"
  }
 },
 "nbformat": 4,
 "nbformat_minor": 2
}
