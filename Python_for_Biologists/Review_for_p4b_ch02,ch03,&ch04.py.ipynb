{
 "cells": [
  {
   "cell_type": "code",
   "execution_count": 1,
   "metadata": {},
   "outputs": [
    {
     "name": "stdout",
     "output_type": "stream",
     "text": [
      "Hello \n",
      " world\n",
      "Hello \t world\n",
      " world\n",
      " Hello world\n"
     ]
    }
   ],
   "source": [
    "# - p4b_ch02:\n",
    "# break line, tab and enter;\n",
    "print (\"Hello \\n world\")\n",
    "print (\"Hello \\t world\")\n",
    "print (\"Hello \\r world\")\n",
    "print (\"\\r Hello world\")\n"
   ]
  },
  {
   "cell_type": "code",
   "execution_count": 6,
   "metadata": {},
   "outputs": [
    {
     "name": "stdout",
     "output_type": "stream",
     "text": [
      "ATGCGTA\n",
      "ATGCGTA\n"
     ]
    }
   ],
   "source": [
    "# Assigning a string to a variable \n",
    "my_dna = \"ATGCGTA\"\n",
    "print (\"ATGCGTA\")\n",
    "print (my_dna)"
   ]
  },
  {
   "cell_type": "code",
   "execution_count": 7,
   "metadata": {},
   "outputs": [
    {
     "name": "stdout",
     "output_type": "stream",
     "text": [
      "AATTGGCC\n"
     ]
    }
   ],
   "source": [
    "# concatenation of strings\n",
    "my_dna = \"AATT\" + \"GGCC\"\n",
    "print (my_dna)"
   ]
  },
  {
   "cell_type": "code",
   "execution_count": 8,
   "metadata": {},
   "outputs": [
    {
     "name": "stdout",
     "output_type": "stream",
     "text": [
      "Hello world\n"
     ]
    }
   ],
   "source": [
    "# we can put concatenation inside print statement\n",
    "print(\"Hello\" + \" \" + \"world\")"
   ]
  },
  {
   "cell_type": "code",
   "execution_count": 17,
   "metadata": {},
   "outputs": [
    {
     "name": "stdout",
     "output_type": "stream",
     "text": [
      "The length of the DNA is 8 bp.\n"
     ]
    }
   ],
   "source": [
    "# length (len ()) function :\n",
    "my_dna = \"AATTGGCC\"\n",
    "dna_length = len(my_dna) # does not produce any output, means python cannot concatenate a string and a number, so need str(len()) function turns  a number to a string \n",
    "print(\"The length of the DNA is \" + str(dna_length) + \" bp.\")"
   ]
  },
  {
   "cell_type": "code",
   "execution_count": 23,
   "metadata": {},
   "outputs": [
    {
     "name": "stdout",
     "output_type": "stream",
     "text": [
      "7\n"
     ]
    }
   ],
   "source": [
    "# int() to print numbers; \n",
    "int('4')\n",
    "number = 3 + int('4')\n",
    "print (number)"
   ]
  },
  {
   "cell_type": "code",
   "execution_count": 85,
   "metadata": {},
   "outputs": [
    {
     "name": "stdout",
     "output_type": "stream",
     "text": [
      "11\n",
      "11\n"
     ]
    }
   ],
   "source": [
    "# intigers and strings are treated differently;\n",
    "my_dna = \"AATTGGCC\"\n",
    "dna_length = len(my_dna)\n",
    "number = 3 + int(dna_length)\n",
    "print (number)\n",
    "\n",
    "my_dna = \"AATTGGCC\"\n",
    "dna_length = len(my_dna)\n",
    "number = 3 + dna_length\n",
    "print (number)\n"
   ]
  },
  {
   "cell_type": "code",
   "execution_count": 21,
   "metadata": {},
   "outputs": [
    {
     "name": "stdout",
     "output_type": "stream",
     "text": [
      "tcgactgctagct\n",
      "tcgactgctagct\n",
      "TCGACTGCTAGCT\n",
      "TCGACTGCTAGCT\n",
      "ylspadktny\n",
      "ylspadktny\n"
     ]
    }
   ],
   "source": [
    "# Change case and replacement in strings using loer(), upper(), replace();\n",
    "# Do not work on numbers, they work only on strings\n",
    "# for lower()\n",
    "my_dna = \"TCGACTGCTAGCT\"\n",
    "print(my_dna.lower())\n",
    "print(\"TCGACTGCTAGCT\".lower())\n",
    "\n",
    "# for uppwer()\n",
    "mydna = \"tcgactgctagct\"\n",
    "print(mydna.upper())\n",
    "print(\"tcgactgctagct\".upper())\n",
    "\n",
    "# for replacement; it takes two string arguments, then replaces  the 1st with the 2nd, e.g.; \n",
    "protein = \"vlspadktnv\" # replace valine (v) with tyrosine (y) \n",
    "print(protein.replace(\"v\", \"y\"))\n",
    "print(\"vlspadktnv\".replace(\"v\", \"y\"))"
   ]
  },
  {
   "cell_type": "code",
   "execution_count": 43,
   "metadata": {},
   "outputs": [
    {
     "name": "stdout",
     "output_type": "stream",
     "text": [
      "GCAGTCACGCTAA\n",
      "TGCGGTTAACGTACGT\n",
      "GGTCAGTCATGCATGCAG\n"
     ]
    }
   ],
   "source": [
    "# Extracting part of a string (called substring) in python using [#:#] # Trim the first 9 base adapter\n",
    "# Syntax is print(Name[#index:#index])\n",
    "my_dna1 = \"ATCGTGCATGCAGTCACGCTAA\"\n",
    "my_dna2 = \"ATCGTGCATTGCGGTTAACGTACGT\"\n",
    "my_dna3 = \"ATCGTGCATGGTCAGTCATGCATGCAG\"\n",
    "print(my_dna1[9:])\n",
    "print(my_dna2[9:])\n",
    "print(my_dna3[9:])\n"
   ]
  },
  {
   "cell_type": "code",
   "execution_count": 60,
   "metadata": {},
   "outputs": [
    {
     "name": "stdout",
     "output_type": "stream",
     "text": [
      "4\n",
      "4\n",
      "The number of 'GGCCTAG' repeats in my DNA is 4\n",
      "9 10 17 19\n",
      "55\n",
      "(16.363636363636363, 18.181818181818183, 30.909090909090907, 19)\n",
      "AT % is 34.55%  and  CG % is 65.45%\n"
     ]
    }
   ],
   "source": [
    "# Counting and finding substrings in python by count() method that takes a single argument;\n",
    "my_dna = \"ATCGGCCTAGGTACGCTCGGCCTAGGTGGCCCAATGGCCTAGGCTAGGCCTAGCG\"\n",
    "print(my_dna.count(\"GGCCTAG\"))\n",
    "repeats = my_dna.count(\"GGCCTAG\")\n",
    "print (repeats)\n",
    "print (\"The number of 'GGCCTAG' repeats in my DNA is \" + str(repeats))\n",
    "\n",
    "numberof_A = (my_dna.count(\"A\"))\n",
    "numberof_T = (my_dna.count(\"T\"))\n",
    "numberof_C = (my_dna.count(\"C\"))\n",
    "numberof_G = (my_dna.count(\"G\"))\n",
    "print (numberof_A, numberof_T, numberof_C, numberof_G)\n",
    "sum = numberof_A + numberof_T + numberof_C + numberof_G\n",
    "print (sum)\n",
    "percent = (numberof_A/sum * 100, numberof_T/sum * 100, numberof_C/sum * 100, numberof_G)\n",
    "print (percent)\n",
    "\n",
    "# Round decimal points to second positions after the decimal in python, using round() method syntax, round(number, #), while # = the requested position after the decimal point,.\n",
    "\n",
    "numberof_AT = numberof_A + numberof_T\n",
    "numberof_CG = numberof_C + numberof_G\n",
    "AT_percent = (numberof_AT/sum) * 100\n",
    "CG_percent = (numberof_CG/sum) * 100\n",
    "print ((\"AT % is \" + str(round(AT_percent,2)) + \"%\"), (\" and \"), (\"CG % is \" + str(round(CG_percent,2)) + \"%\"))\n"
   ]
  },
  {
   "cell_type": "code",
   "execution_count": 61,
   "metadata": {},
   "outputs": [
    {
     "name": "stdout",
     "output_type": "stream",
     "text": [
      "3\n",
      "6\n",
      "-1\n"
     ]
    }
   ],
   "source": [
    "# Find the index position of substrings using find() method, which takes only one string argument, but returns a number which is the position of the substring in the string;\n",
    "protein = \"vlspadktnv\"\n",
    "print(str(protein.find('p')))\n",
    "print(str(protein.find('kt')))\n",
    "print(str(protein.find('w')))\n",
    "# -1 means this substring is not found in the string."
   ]
  },
  {
   "cell_type": "code",
   "execution_count": null,
   "metadata": {},
   "outputs": [],
   "source": [
    "# Exercises of chapter 2 of p-4b Done before!\n",
    "# 1exercise_ch2:\n",
    "# Calculate AT content from the following short DNA sequence:\n",
    "# ACTGATCGATTACGTATAGTATTTGCTATCATACATATATATCGATGCGTTCAT\n",
    "\n",
    "\n",
    "my_dna = \"ACTGATCGATTACGTATAGTATTTGCTATCATACATATATATCGATGCGTTCAT\"\n",
    "#my_dna = input()\n",
    "print (my_dna)\n",
    "\n",
    "dna_length = len(my_dna)\n",
    "#print(dna_length)\n",
    "print(\"Length of this DNA sequence = \" + str(dna_length) + \" bp\")\n",
    "A_number = my_dna.count('A')\n",
    "#print(A_number)\n",
    "print(\"Numbers of A = \" + str(A_number))\n",
    "T_number = my_dna.count('T')\n",
    "# print(T_number)\n",
    "print(\"Numbers of T = \" + str(T_number))\n",
    "\n",
    "C_number = my_dna.count('C')\n",
    "#print(C_number)\n",
    "print(\"Numbers of C = \" + str(C_number))\n",
    "\n",
    "G_number = my_dna.count('G')\n",
    "#print(G_number)\n",
    "print(\"Numbers of G = \" + str(G_number))\n",
    "\n",
    "\n",
    "AT_content = (A_number + T_number)/dna_length * 100\n",
    "#print(AT_content)\n",
    "print(\"AT Content Percentage = \" + str(AT_content) + \" %\")\n",
    "\n",
    "CG_content = (C_number + G_number)/dna_length * 100\n",
    "#print(CG_content)\n",
    "print(\"CG Content Percentage = \" + str(CG_content) + \" %\")\n",
    "\n",
    "# 2exercise_ch2:\n",
    "# Write a program that will print the complement of the following short DNA sequence:\n",
    "\n",
    "# ACTGATCGATTACGTATAGTATTTGCTATCATACATATATATCGATGCGTTCAT\n",
    "\n",
    "\n",
    "my_dna = \"ACTGATCGATTACGTATAGTATTTGCTATCATACATATATATCGATGCGTTCAT\"\n",
    "\n",
    "# replace A with T\n",
    "replacement1 = my_dna.replace('A', 'H')\n",
    "\n",
    "\n",
    "# replace T with A\n",
    "replacement2 = replacement1.replace('T', 'J')\n",
    "\n",
    "\n",
    "# replace C with G\n",
    "replacement3 = replacement2.replace('C', 'K')\n",
    "\n",
    "\n",
    "# replace G with C\n",
    "replacement4 = replacement3.replace('G', 'L')\n",
    "\n",
    "\n",
    "# replace A with T\n",
    "replacement5 = replacement4.replace('H', 'T')\n",
    "\n",
    "\n",
    "# replace T with A\n",
    "replacement6 = replacement5.replace('J', 'A')\n",
    "\n",
    "\n",
    "# replace C with G\n",
    "replacement7 = replacement6.replace('K', 'G')\n",
    "\n",
    "\n",
    "# replace G with C\n",
    "replacement8 = replacement7.replace('L', 'C')\n",
    "\n",
    "# print the result of the final replacement\n",
    "print(replacement8)\n",
    "\n",
    "\n",
    "#   my_dna =  \"ACTGATCGATTACGTATAGTATTTGCTATCATACATATATATCGATGCGTTCAT\"\n",
    "\n",
    "# The result = TGACTAGCTAATGCATATCATAAACGATAGTATGTATATATAGCTACGCAAGTA\n",
    "\n",
    "# Solved.\n",
    "\n",
    "\n",
    "\n",
    "# Second way to treat the above issue is the fact that replace() is case sensitive;\n",
    "\n",
    "# So we can replace first to lower cases, then at the end upper();\n",
    "\n",
    "# replace A with T\n",
    "replacement1 = my_dna.replace('A', 't')\n",
    "\n",
    "\n",
    "# replace T with A\n",
    "replacement2 = replacement1.replace('T', 'a')\n",
    "\n",
    "\n",
    "# replace C with G\n",
    "replacement3 = replacement2.replace('C', 'g')\n",
    "\n",
    "\n",
    "# replace G with C\n",
    "replacement4 = replacement3.replace('G', 'c')\n",
    "\n",
    "# print the result of the final replacement\n",
    "print(replacement4.upper())\n",
    "\n",
    "#   my_dna =  \"ACTGATCGATTACGTATAGTATTTGCTATCATACATATATATCGATGCGTTCAT\"\n",
    "\n",
    "# The result = TGACTAGCTAATGCATATCATAAACGATAGTATGTATATATAGCTACGCAAGTA\n",
    "\n",
    "# Solved.\n",
    "\n",
    "\n",
    "# 3exercise_ch2:\n",
    "\n",
    "# The following short DNA sequence contains the EcoRI restriction enzyme site, cuts at G*AATTC (* = position of cut),\n",
    "# Write a program which will calculate the size of the two fragments that will be produced when the DNA sequence is digested with EcoRI.\n",
    "\n",
    "# ACTGATCGATTACGTATAGTAGAATTCTATCATACATATATATCGATGCGTTCAT\n",
    "\n",
    "\n",
    "my_dna = \"ACTGATCGATTACGTATAGTAGAATTCTATCATACATATATATCGATGCGTTCAT\"\n",
    "firstfraglen = my_dna.find(\"AATTC\")\n",
    "print(\"Length of first fragmet is \" + str(firstfraglen))\n",
    "secondfraglen = len(my_dna) - firstfraglen\n",
    "print(\"Length of second fragmet is \" + str(secondfraglen))\n",
    "\n",
    "\n",
    "# got help from the book's solution\n",
    "\n",
    "\n",
    "# 4exercise_ch2:\n",
    "\n",
    "# Splicing out introns, part one:\n",
    "\n",
    "# Here is a short sectin of genomic DNA:\n",
    "# ATCGATCGATCGATCGACTGACTAGTCATAGCTATGCATGTAGCTACTCGATCGATCGATCGATCGATCGATCGATCATGCTATCATCGATCGATATCGATGCATCGACTACTAT\n",
    "# It comprises two exons and one introns. The first exon runs from the start of the sequence to the sixty-third character, ...\n",
    "# and the second exon runs from the ninety-first character to the end if the sequence. Write a program that will print just ...\n",
    "# the coding regions of the DNA sequence.\n",
    "\n",
    "my_dna = \"ATCGATCGATCGATCGACTGACTAGTCATAGCTATGCATGTAGCTACTCGATCGATCGATCGATCGATCGATCGATCATGCTATCATCGATCGATATCGATGCATCGACTACTAT\"\n",
    "first_exon = my_dna[0:63]\n",
    "second_exon = my_dna[90:]\n",
    "#second_exon = my_dna[90:len(my_dna)] # This len(my_dna) is used instead of the last character number\n",
    "\n",
    "print (\"The coding sequence is \" + first_exon + second_exon)\n",
    "#print (first_exon)\n",
    "#print (second_exon)\n",
    "\n",
    "\n",
    "\n",
    "# Splicing out introns, part two:\n",
    "\n",
    "# Using the data from part one, write a program that will calculate what percentage of the DNA sequence is coding:\n",
    "\n",
    "coding_regions = my_dna[0:63] + my_dna[90:]\n",
    "print (coding_regions)\n",
    "codreg_length = len(coding_regions)\n",
    "dna_length = len(my_dna)\n",
    "codreg_length = len(coding_regions)\n",
    "print(codreg_length / dna_length * 100)\n",
    "\n",
    "print (codreg_length)\n",
    "print (dna_length)\n",
    "\n",
    "\n",
    "\n",
    "# Splicing out introns, part three:\n",
    "# Using the data from part one, write a program that will print out the original genomic DNA sequence with ...\n",
    "# coding bases in uppercase and non-cding bases in lowercase\n",
    "\n",
    "\n",
    "first_exon = my_dna[0:63]\n",
    "second_exon = my_dna[90:]\n",
    "intron = my_dna[63:90]\n",
    "print (\"The original DNA sequence is \" + first_exon.upper() + intron.lower() + second_exon.upper())\n",
    "print (\"The original DNA sequence is \" + my_dna)\n"
   ]
  },
  {
   "cell_type": "code",
   "execution_count": 78,
   "metadata": {},
   "outputs": [
    {
     "name": "stdout",
     "output_type": "stream",
     "text": [
      "ATCGGCCTAGGTACGCTCGGCCTAGGTGGCCCAATGGCCTAGGCTAGGCCTAGCGCCAATGGCCTAGGCTAGGCCTAGCG\n"
     ]
    }
   ],
   "source": [
    "# - p4b_ch03:\n",
    "# Reading file in python, using open(), open() to read files in python; it takes one argument,  which is a string that contains the name of the file; it could be assigned to a variable, e.g., my_file = open(\"dna.txt\"); and after run it turns a file object, a file object represents a file on your computer’s hard drive; open(file, mode):\n",
    "# for modes we can put, write, read or append,\n",
    "# With file objects most of our interaction will be through methods like, read();\n",
    "#1st thing we can do is to read the contents of the file, using the method read();\n",
    "# read() method does not take any arguments, and the return value is a string, which we can store it in a variable;\n",
    "# open() function is used to open a file before we can read the file; it opens but nothing will be shown; it take one argument; and returns a file object (= a file on the computer's hard drive. it is different than strings and/or numbers, where after assigning them to a variable we could use the variable name, e.g., my_string = 'abcdefg'; print(my_string); my_number = 42; print(my_number + 1))\n",
    "\n",
    "# To create a file like txt,\n",
    "my_file = open(\"my_dna.txt\", \"w\")\n",
    "my_file.write(\"ATCGGCCTAGGTACGCTCGGCCTAGGTGGCCCAATGGCCTAGGCTAGGCCTAGCG\")\n",
    "\n",
    "# To append to the previously created txt file\n",
    "my_file = open(\"my_dna.txt\", \"a\")\n",
    "my_file.write(\"CCAATGGCCTAGGCTAGGCCTAGCG\")\n",
    "\n",
    "# To open the file in python\n",
    "my_file = open(\"my_dna.txt\", \"r\")\n",
    "my_dna = my_file.read()\n",
    "print(my_dna)\n",
    "my_file.close()\n"
   ]
  },
  {
   "cell_type": "code",
   "execution_count": 82,
   "metadata": {},
   "outputs": [
    {
     "name": "stdout",
     "output_type": "stream",
     "text": [
      "Help on built-in function open in module io:\n",
      "\n",
      "open(file, mode='r', buffering=-1, encoding=None, errors=None, newline=None, closefd=True, opener=None)\n",
      "    Open file and return a stream.  Raise OSError upon failure.\n",
      "    \n",
      "    file is either a text or byte string giving the name (and the path\n",
      "    if the file isn't in the current working directory) of the file to\n",
      "    be opened or an integer file descriptor of the file to be\n",
      "    wrapped. (If a file descriptor is given, it is closed when the\n",
      "    returned I/O object is closed, unless closefd is set to False.)\n",
      "    \n",
      "    mode is an optional string that specifies the mode in which the file\n",
      "    is opened. It defaults to 'r' which means open for reading in text\n",
      "    mode.  Other common values are 'w' for writing (truncating the file if\n",
      "    it already exists), 'x' for creating and writing to a new file, and\n",
      "    'a' for appending (which on some Unix systems, means that all writes\n",
      "    append to the end of the file regardless of the current seek position).\n",
      "    In text mode, if encoding is not specified the encoding used is platform\n",
      "    dependent: locale.getpreferredencoding(False) is called to get the\n",
      "    current locale encoding. (For reading and writing raw bytes use binary\n",
      "    mode and leave encoding unspecified.) The available modes are:\n",
      "    \n",
      "    ========= ===============================================================\n",
      "    Character Meaning\n",
      "    --------- ---------------------------------------------------------------\n",
      "    'r'       open for reading (default)\n",
      "    'w'       open for writing, truncating the file first\n",
      "    'x'       create a new file and open it for writing\n",
      "    'a'       open for writing, appending to the end of the file if it exists\n",
      "    'b'       binary mode\n",
      "    't'       text mode (default)\n",
      "    '+'       open a disk file for updating (reading and writing)\n",
      "    'U'       universal newline mode (deprecated)\n",
      "    ========= ===============================================================\n",
      "    \n",
      "    The default mode is 'rt' (open for reading text). For binary random\n",
      "    access, the mode 'w+b' opens and truncates the file to 0 bytes, while\n",
      "    'r+b' opens the file without truncation. The 'x' mode implies 'w' and\n",
      "    raises an `FileExistsError` if the file already exists.\n",
      "    \n",
      "    Python distinguishes between files opened in binary and text modes,\n",
      "    even when the underlying operating system doesn't. Files opened in\n",
      "    binary mode (appending 'b' to the mode argument) return contents as\n",
      "    bytes objects without any decoding. In text mode (the default, or when\n",
      "    't' is appended to the mode argument), the contents of the file are\n",
      "    returned as strings, the bytes having been first decoded using a\n",
      "    platform-dependent encoding or using the specified encoding if given.\n",
      "    \n",
      "    'U' mode is deprecated and will raise an exception in future versions\n",
      "    of Python.  It has no effect in Python 3.  Use newline to control\n",
      "    universal newlines mode.\n",
      "    \n",
      "    buffering is an optional integer used to set the buffering policy.\n",
      "    Pass 0 to switch buffering off (only allowed in binary mode), 1 to select\n",
      "    line buffering (only usable in text mode), and an integer > 1 to indicate\n",
      "    the size of a fixed-size chunk buffer.  When no buffering argument is\n",
      "    given, the default buffering policy works as follows:\n",
      "    \n",
      "    * Binary files are buffered in fixed-size chunks; the size of the buffer\n",
      "      is chosen using a heuristic trying to determine the underlying device's\n",
      "      \"block size\" and falling back on `io.DEFAULT_BUFFER_SIZE`.\n",
      "      On many systems, the buffer will typically be 4096 or 8192 bytes long.\n",
      "    \n",
      "    * \"Interactive\" text files (files for which isatty() returns True)\n",
      "      use line buffering.  Other text files use the policy described above\n",
      "      for binary files.\n",
      "    \n",
      "    encoding is the name of the encoding used to decode or encode the\n",
      "    file. This should only be used in text mode. The default encoding is\n",
      "    platform dependent, but any encoding supported by Python can be\n",
      "    passed.  See the codecs module for the list of supported encodings.\n",
      "    \n",
      "    errors is an optional string that specifies how encoding errors are to\n",
      "    be handled---this argument should not be used in binary mode. Pass\n",
      "    'strict' to raise a ValueError exception if there is an encoding error\n",
      "    (the default of None has the same effect), or pass 'ignore' to ignore\n",
      "    errors. (Note that ignoring encoding errors can lead to data loss.)\n",
      "    See the documentation for codecs.register or run 'help(codecs.Codec)'\n",
      "    for a list of the permitted encoding error strings.\n",
      "    \n",
      "    newline controls how universal newlines works (it only applies to text\n",
      "    mode). It can be None, '', '\\n', '\\r', and '\\r\\n'.  It works as\n",
      "    follows:\n",
      "    \n",
      "    * On input, if newline is None, universal newlines mode is\n",
      "      enabled. Lines in the input can end in '\\n', '\\r', or '\\r\\n', and\n",
      "      these are translated into '\\n' before being returned to the\n",
      "      caller. If it is '', universal newline mode is enabled, but line\n",
      "      endings are returned to the caller untranslated. If it has any of\n",
      "      the other legal values, input lines are only terminated by the given\n",
      "      string, and the line ending is returned to the caller untranslated.\n",
      "    \n",
      "    * On output, if newline is None, any '\\n' characters written are\n",
      "      translated to the system default line separator, os.linesep. If\n",
      "      newline is '' or '\\n', no translation takes place. If newline is any\n",
      "      of the other legal values, any '\\n' characters written are translated\n",
      "      to the given string.\n",
      "    \n",
      "    If closefd is False, the underlying file descriptor will be kept open\n",
      "    when the file is closed. This does not work when a file name is given\n",
      "    and must be True in that case.\n",
      "    \n",
      "    A custom opener can be used by passing a callable as *opener*. The\n",
      "    underlying file descriptor for the file object is then obtained by\n",
      "    calling *opener* with (*file*, *flags*). *opener* must return an open\n",
      "    file descriptor (passing os.open as *opener* results in functionality\n",
      "    similar to passing None).\n",
      "    \n",
      "    open() returns a file object whose type depends on the mode, and\n",
      "    through which the standard file operations such as reading and writing\n",
      "    are performed. When open() is used to open a file in a text mode ('w',\n",
      "    'r', 'wt', 'rt', etc.), it returns a TextIOWrapper. When used to open\n",
      "    a file in a binary mode, the returned class varies: in read binary\n",
      "    mode, it returns a BufferedReader; in write binary and append binary\n",
      "    modes, it returns a BufferedWriter, and in read/write mode, it returns\n",
      "    a BufferedRandom.\n",
      "    \n",
      "    It is also possible to use a string or bytearray as a file for both\n",
      "    reading and writing. For strings StringIO can be used like a file\n",
      "    opened in a text mode, and for bytes a BytesIO can be used like a file\n",
      "    opened in a binary mode.\n",
      "\n"
     ]
    }
   ],
   "source": [
    "# Help in python is as help() but just for the built in functions; e.g., open function\n",
    "help(open)"
   ]
  },
  {
   "cell_type": "code",
   "execution_count": null,
   "metadata": {},
   "outputs": [],
   "source": [
    "# To write codes in a text; we need showbang (#! /usr/bin/env python3) to be written on the top; \n",
    "# Done locally."
   ]
  },
  {
   "cell_type": "code",
   "execution_count": 95,
   "metadata": {},
   "outputs": [
    {
     "name": "stdout",
     "output_type": "stream",
     "text": [
      "5\n",
      "False False True\n"
     ]
    }
   ],
   "source": [
    "# Data types in programming:\n",
    "# 1) Numeric data, like, integer and float.\n",
    "# 2) String data, like, text based data.\n",
    "# 3) Boolean, like, true and false.\n",
    "# Variables are empty boxes or entities that can hold different types of data. Python uses equal sign ( = ) as an assignment operator to assign a data to a variable, e.g., 5 is our data, and we want to assign it to an unassigned variable called A, so, A = 5.\n",
    "A = 5 # A is [ empty box  ], by assigning our data, here it is numeric data, 5, to A, the box will now include 5 in it, [5] (=A), so now A variable is an assigned one.\n",
    "print (A)\n",
    "\n",
    "# - e.g., variable = \"text\"; variable = numbers; viable = numbers with decimal places; variable = True and or False types of data; e.g. on Boolean, A > B , the result will be false because B is bigger than A.\n",
    "A = 2\n",
    "B = 3\n",
    "print ((A == B), (A > B), (A < B))\n"
   ]
  },
  {
   "cell_type": "code",
   "execution_count": 105,
   "metadata": {},
   "outputs": [],
   "source": [
    "# Functions in Python:\n",
    "# 1) Built in functions, like, print(), len(), inti(), str() ... etc.\n",
    "# 2) Custom-made functions that are created by user, e.g; def Name(variable): ; arguments ; return (variable), e.g., \n",
    "def square (x): \n",
    "    sq = x*x  # declare another variable, e.g. sq = x*x \n",
    "    return(sq) # then return sq square (5)\n"
   ]
  },
  {
   "cell_type": "code",
   "execution_count": 106,
   "metadata": {},
   "outputs": [
    {
     "data": {
      "text/plain": [
       "25"
      ]
     },
     "execution_count": 106,
     "metadata": {},
     "output_type": "execute_result"
    }
   ],
   "source": [
    "# To run this created function, just type its name and pass a data to it in the place of x;\n",
    "square (5)"
   ]
  },
  {
   "cell_type": "code",
   "execution_count": 108,
   "metadata": {},
   "outputs": [],
   "source": [
    "# Python libraries (packages) could be;\n",
    "# 1) imported by import function, e.g., import tkinter as t; or e.g., from tkinter import * (=all)\n",
    "# 2) created by people like numpy\n",
    "\n",
    "# - For installing other libraries or packages created by other people, we need to have ‘pip’ (which is python installation package) installed on our computer, e.g.,  import numpy as n (or any letter)# look it gives error so need pip to install it, open a terminal and write pip install numpy, it will collect numpy from internet and install it.\n",
    "\n"
   ]
  },
  {
   "cell_type": "code",
   "execution_count": null,
   "metadata": {},
   "outputs": [],
   "source": [
    "#Conditional commands: works based on some conditions, e.g., ‘if condition’\n",
    "Low_humidity = True\n",
    "if Low_humidity:\n",
    "    print(\"increase humidity levels\")\n",
    "else:\n",
    "    print(“humidity level is fine\")\n",
    "# The syntax of conditional command is as follow:\n",
    "if condition:\n",
    "          statements\n",
    "# - For this piece of code, you need to have the word 'if' followed by your condition, then colon (:); the next line of the statements should be indented by ‘tab’ or ‘4 spaces’, then write your statements; \n",
    "\n",
    "- Another type of conditional commands is called ‘Nested if conditions; if the outer conditions meet, the inner conditions will be performed, e.g., \n",
    "Low_temp = True\n",
    "if Low_ temp:\n",
    "    print(\"Temperature is low\")\n",
    "    if Heater_On:\n",
    "          print(\"the heater is turned ON\")\n",
    "    else:\n",
    "        print(\"Turn ON the heater\")\n",
    "else:\n",
    "    print(“The temperature is fine\")\n",
    "\n",
    "- The syntax of conditional command is as follow:\n",
    "if condition:\n",
    "          statements\n",
    " \n"
   ]
  },
  {
   "cell_type": "code",
   "execution_count": 112,
   "metadata": {},
   "outputs": [],
   "source": [
    "# Different comparison operators; like, >, <, >=, <=, ==, != \n",
    "# Boolean operations, like and, or, not."
   ]
  },
  {
   "cell_type": "code",
   "execution_count": null,
   "metadata": {},
   "outputs": [],
   "source": [
    "# - p4b_ch04:\n",
    "# In Python, Loops in python; used to iterate objects:\n",
    "# Types of loop in Python, 1) while and 2) for;  \n",
    "# 1) Syntax of while loop is as follow: word ‘while’ followed by ‘condition’ and (:), on second line give an ‘indentation’ and then the ‘statement’\n",
    "while condition:\n",
    "    statements\n",
    "# 2) Syntax of for loop is as follow: On first line there is ‘variable’ = ‘data’; on second line, there is word ‘for’ followed by ‘a suitable name denotes to each element’ then ‘in’ and ‘Variable Name’ and then colon (:), on third line give an ‘indentation’ and then the ‘statements’.\n",
    "for i in txt:\n",
    "    if i == \"t”: print(\"T\", end = \" \")\n",
    "    else : print(i, end = \" \")\n"
   ]
  },
  {
   "cell_type": "code",
   "execution_count": 2,
   "metadata": {},
   "outputs": [
    {
     "name": "stdout",
     "output_type": "stream",
     "text": [
      "1 1 2 3 5 8 13 21 34 55 89 "
     ]
    }
   ],
   "source": [
    "# while loop example, e.g.; find Fibonacci sequence of data;\n",
    "x,y = 0,1\n",
    "while y <= 100:\n",
    "    print(y, end = \" \")\n",
    "    x,y = y, y+x"
   ]
  },
  {
   "cell_type": "code",
   "execution_count": 4,
   "metadata": {},
   "outputs": [
    {
     "name": "stdout",
     "output_type": "stream",
     "text": [
      "AtCGtCGAtCGAtCtAGC"
     ]
    }
   ],
   "source": [
    "# for loop example, e.g.; \n",
    "txt = \"ATCGTCGATCGATCTAGC\"\n",
    "for i in txt: \n",
    "    if (i == \"T\"): print(\"t\", end = '') \n",
    "    else: print(i, end = '')"
   ]
  },
  {
   "cell_type": "code",
   "execution_count": 7,
   "metadata": {},
   "outputs": [
    {
     "name": "stdout",
     "output_type": "stream",
     "text": [
      "TAGCAGCTAGCTAGATCG"
     ]
    }
   ],
   "source": [
    "# Another for loop example, e.g.;\n",
    "txt = \"ATCGTCGATCGATCTAGC\"\n",
    "for i in txt:\n",
    "    if (i == \"A\"): print(\"T\", end = '')\n",
    "    elif (i == \"T\"): print(\"A\", end = '')\n",
    "    elif (i == \"C\"): print(\"G\", end = '')\n",
    "    elif (i == \"G\"): print(\"C\", end = '')\n"
   ]
  },
  {
   "cell_type": "code",
   "execution_count": null,
   "metadata": {},
   "outputs": [],
   "source": [
    "# Class in python: Class has several features\"\n",
    "# 1) Initialization method: \n",
    "# 2) Writing method:\n",
    "# 3) Help text method: You write help text, so that the users can benefit from it.\n",
    "# 4) Communication method: We write communication, so that we communicate with one another. \n",
    "\n",
    "# 1) Initialization method: It is a feature of Class in Python. \n",
    "# Example, calculator class; \n",
    "class Calculator:\n",
    "    \"\"\" This is a simple calculator class. \"\"\"\n",
    "    def __init__(self,x,y):\n",
    "        self.x = x\n",
    "        self.y = y\n",
    "    def addition(x,y,*args):\n",
    "        \"\"\" This is an addition method, it can provide the sum of \\n an endless number \"\"\"\n",
    "        adder = (x+y) + (sum(args))\n",
    "        return(adder)\n",
    "    def subtraction (x,y):\n",
    "        \"\"\" This method subtracts y from x. \"\"\"\n",
    "        sub = x-y\n",
    "        return(sub)\n",
    "    def multiplication(x,y):\n",
    "        \"\"\" This method smultiplies x and y. \"\"\"\n",
    "        multi = x*y\n",
    "        return(multi)\n",
    "    def division(x,y):\n",
    "        \"\"\" This is a division method that divides x (variable) and y (other variable). \"\"\"\n",
    "        div = x/y\n",
    "        return(div)\n",
    "# - In order to run a method inside class, we type ‘print (Calculator.addition(2,3,5,7,8))’.  We can do the same thing for other methods, as follow:\n",
    "print (Calculator.addition(2,3,5,7,8))\n",
    "#print (Calculator.subtraction(7,2))\n",
    "#print (Calculator.multiplication(23,4))\n",
    "#print (Calculator.division(12,2))\n",
    "\n",
    "# - Then run the script. \n",
    "# - You can call the class in shell. \n",
    "# - Class includes ClassName.Method(data) for calling it.\n",
    "# - You can use help() inside the class, help() followed by the name of the class in between parenthesis, example, help(Calculator), when run it the script will be shown.\n",
    "\n",
    "# - Class: A class is a fundamental tool in object-oriented programming (OOP) language that allows you to create objects with related data and functions and perform tasks with those data.\n",
    "# - className --> Attribte --> Methods --> Data. So, a class has a name, like (Calculator), an attribute, like (Math_calc), and methods, like (Addition), to operate on data , like (3,2).\n",
    "# - An example of a class name is a calculator class, above, and it can have an attribute of a math calculation it also can have an addition method to add numbers together and you can pass 3 and 2 as data to that method to be operated on later on this module of explaining class is called encapsulation module the basic.\n",
    "\n",
    "class Name:\n",
    "    Method_defined_here():\n",
    "        blocks of code\n",
    "        return()\n",
    "\n",
    "Name.Method(data)\n",
    "\n",
    "# - Syntax of a class is as follows you write the term class followed by a name and colon then it is followed by your methods and blocks of code and a return function, then in order to call a method from a class to operate on data you write down the name of the class followed by a dot (.) and the method then write the data in between parentheses.\n",
    "\n",
    "# - To create a simple class you write down class followed by a name here we use user and colon then we pass it the term pass which is a statement that doesn't do anything, so this user class doesn't do anything at the moment.\n",
    "\n",
    "class User:\n",
    "    pass\n",
    "\n",
    " user1 = User()\n",
    " user2 = User()\n",
    "# assign data to variable of instances within classes.\n",
    " user1.first_name = \"Mark\"\n",
    " user1.last_name = \"Brown\"\n",
    " user2.first_name = \"Alan\"\n",
    " user2.last_name = \"West\"\n",
    "\n",
    " print(user1.first_name, user1.last_name)\n",
    " print(user2.first_name, user2.last_name)\n",
    "\n",
    "# - To create class instances what you've got to do is to write down the name of the instance for example user1 and assign it to the class (User) so write down the class name followed by parentheses so we create two user instances here we assign them to the user class. \n",
    "# - User instances are also referred to as fields that can hold data, so we can assign data to them later on.\n",
    "# - In order to pass data to class attributes we write down the name of the instance dot a variable and then assign data to it using assignment operator. Here, we assign first name and last name to both user instances.\n",
    "# - To do so, write down user1 dot first name equals a name, the first name here is actually a variable within the instance of the class, the last name is also a variable of the user1 instance of the class we can also assign data to the same two variables of the second class instance which is the second user so write down user2 dot first-name equals Alan let's say user2 last name equals West. We can also call these data back from the class instances by using print function in order to get class outputs you write down print and in between parentheses write down the name of the instance dot the name of the variable.\n",
    "# - So you can do that for all of the variables of all of the instances or those that you need them. \n",
    "# - Here we need first and last name of the first user (User1) and the first and last name of the second user  (User2). So, we use two different print functions in order to separate them Mark Brown was the first users first and last name, and Alan West was the first and last name of the second user so this is a simple way of creating class class instances and variables and also assigning data to them in the next coming lecture I'm going to talk about class features and I'll show an example\n"
   ]
  },
  {
   "cell_type": "code",
   "execution_count": 6,
   "metadata": {},
   "outputs": [
    {
     "name": "stdout",
     "output_type": "stream",
     "text": [
      "sequence is ATCGGCCTAGGTACGCTCGGCCTAGGTGGCCCAATGGCCTAGGCTAGGCCTAGCGCCAATGGCCTAGGCTAGGCCTAGCG and the sequence length is 80 after removing new lines\n"
     ]
    }
   ],
   "source": [
    "# Dealing with newline in python: \n",
    "# Read the DNA sequence in dna.txt file using the functions and methods we got so far;\n",
    "# Open the file;\n",
    "#my_file = open(\"my_dna.txt\")\n",
    "# Read the contents;\n",
    "#my_dna = my_file.read()\n",
    "# Calculate the length;\n",
    "#dna_length = len(my_dna)\n",
    "# Print the output;\n",
    "#print(\"sequence is \" + my_dna + \" and length is \" + str(dna_length))\n",
    "\n",
    "# Having newline at the end, it will be counted as characters. SO not to have mistakes we need to remove the new line \n",
    "\n",
    "## Solution is simple;\n",
    "# This is a common problem with strings. Python settings have a method to remove the newlines from the end of the strings, the method is called rstrip(),\n",
    "# rstrip() is a method to remove new lines; it takes one string argument which is the character that you want to remove from the output, here, we want to remove the \\\\n\\ new line.\n",
    "# so the above codes will be updated as follow:\n",
    "\n",
    "# Open the file;\n",
    "my_file = open(\"my_dna.txt\")\n",
    "\n",
    "# Read the contents;\n",
    "my_file_contents = my_file.read()\n",
    "# REMOVE the newline from the end of the file contents\n",
    "my_dna = my_file_contents.rstrip(\"\\n\")\n",
    "\n",
    "# here we are using two methods read() & rstrip() in the same statement.\n",
    "# my_dna = my_file.read().rstrip(\"\\n\")\n",
    "# if did not work or was difficult we can break the statement to two staements as above.\n",
    "\n",
    "\n",
    "# Calculate the length;\n",
    "dna_length = len(my_dna)\n",
    "# Print the output;\n",
    "#print(\"sequence is \" + my_dna + \" and the sequence length is \" + str(dna_length) + \" after removing new lines\")\n",
    "\n",
    "# We could shorten the above two steps as follow:\n",
    "#my_file_contents = my_file.read()\n",
    "#&\n",
    "#my_dna = my_file_contents.rstrip(\"\\n\")\n",
    "print(\"sequence is \" + my_dna + \" and the sequence length is \" + str(dna_length) + \" after removing new lines\")\n",
    "\n",
    "# did not work for some reason!"
   ]
  },
  {
   "cell_type": "code",
   "execution_count": 7,
   "metadata": {},
   "outputs": [
    {
     "ename": "FileNotFoundError",
     "evalue": "[Errno 2] No such file or directory: 'noneexistent.txt'",
     "output_type": "error",
     "traceback": [
      "\u001b[0;31m---------------------------------------------------------------------------\u001b[0m",
      "\u001b[0;31mFileNotFoundError\u001b[0m                         Traceback (most recent call last)",
      "\u001b[0;32m<ipython-input-7-4508a7bd4e02>\u001b[0m in \u001b[0;36m<module>\u001b[0;34m\u001b[0m\n\u001b[1;32m      1\u001b[0m \u001b[0;31m# Missing files; if there is no any file that we are calling them, we will be getting an error;\u001b[0m\u001b[0;34m\u001b[0m\u001b[0;34m\u001b[0m\u001b[0;34m\u001b[0m\u001b[0m\n\u001b[0;32m----> 2\u001b[0;31m \u001b[0mmy_file\u001b[0m \u001b[0;34m=\u001b[0m \u001b[0mopen\u001b[0m\u001b[0;34m(\u001b[0m\u001b[0;34m\"noneexistent.txt\"\u001b[0m\u001b[0;34m)\u001b[0m\u001b[0;34m\u001b[0m\u001b[0;34m\u001b[0m\u001b[0m\n\u001b[0m",
      "\u001b[0;31mFileNotFoundError\u001b[0m: [Errno 2] No such file or directory: 'noneexistent.txt'"
     ]
    }
   ],
   "source": [
    "# Missing files; if there is no any file that we are calling them, we will be getting an error;\n",
    "my_file = open(\"noneexistent.txt\")"
   ]
  },
  {
   "cell_type": "code",
   "execution_count": 22,
   "metadata": {},
   "outputs": [
    {
     "name": "stdout",
     "output_type": "stream",
     "text": [
      "Hello World!Hello again\n"
     ]
    }
   ],
   "source": [
    "# Writing text to files;\n",
    "# So far we added output to screen, it is good if we do not have too much data. \n",
    "# it is not easy to search in output that's being displayed at terminal, and long lines tend to wrapped.\n",
    "# Most important terminal output vanishes when you close the terminal.\n",
    "\n",
    "# write() method;\n",
    "# write() could also be used to write to a file. it likes print(\"text\") function, takes a string argument, but the difference is, it prints to screen, while in write(\"text\") it writes the text to a file instead of showing it on screen.\n",
    "# e.g.,\n",
    "\n",
    "my_file = open(\"out1.txt\", \"w\")\n",
    "my_file.write(\"Hello world! This is a text to be written in a file \\n\\n\")\n",
    "# after running the above codes no txt will get printed to screen, we need to open the file to double check if it is working.\n",
    "\n",
    "\n",
    "# The following examples are all OK;\n",
    "# Write \"abcdef\"\n",
    "my_file.write(\"abc\" + \"def\\n\\n\")\n",
    "\n",
    "# Write \"8\"\n",
    "my_file.write(str(len('AGTGCTAG')) + \"\\n\\n\")\n",
    "\n",
    "# Write \"TTGC\"\n",
    "my_file.write(\"ATGC\".replace('A', 'T') + \"\\n\\n\")\n",
    "\n",
    "# Write \"atgc\"\n",
    "my_file.write(\"ATGC\".lower() + \"\\n\\n\")\n",
    "\n",
    "# Write contents of my variable\n",
    "my_file.write(\"my variable\\n\")\n",
    "my_file.close() # nothing will be passed to the file if the code was not closed.\n",
    "\n",
    "# Closing files; using close() method\n",
    "# This is the opposite of open(). But close() is a method, while open() is a function.\n",
    "# We should call (write) close() after we done with our reading and writing to a file.\n",
    "# Close() is an unsual method as it takes NO arguments (so it's called with an empty pair of parentheses) and does not return any usful value.\n",
    "# e.g.,\n",
    "my_file = open(\"out2.txt\", \"w\")\n",
    "my_file.write(\"Hello World!\")\n",
    "# remember to close the file, as follow:\n",
    "my_file.close()\n",
    "\n",
    "\n",
    "# Opening files for writing;\n",
    "# As we said we can open files using open(), we can also write to files, but we need to use open() in slightly a different way.\n",
    "# two-argument version of open() (open (File Name, a mode, 'w, r, or a') is used to open a file for writing to it. The second argument (called mode of the file) is the string or the text we want to write in the file.\n",
    "# The second argument could be 'w', 'a', or 'r', for writing appending or reading the file, respectively.\n",
    "# Also, if we did not write anything for the second argument, the default is 'r' by Python.\n",
    "# 'w' and 'a' will create a file if was not exist.\n",
    "# e.g.\n",
    "my_file = open(\"out2.txt\", \"a\")\n",
    "my_file.write(\"Hello again\")\n",
    "# remember to close the file, as follow:\n",
    "my_file.close()\n",
    "\n",
    "\n",
    "#my_file = open(\"out2.txt\")\n",
    "my_file = open(\"out2.txt\", \"r\")\n",
    "my_dna = my_file.read()\n",
    "print (my_dna)\n",
    "my_file.close()\n"
   ]
  },
  {
   "cell_type": "code",
   "execution_count": null,
   "metadata": {},
   "outputs": [],
   "source": [
    "# Paths and folders;\n",
    "# So far we just opened files located in the same directory of the python script where we are running our program, but; \n",
    "# To open a file from a different path or directories; open() function can deal with files located in different directories (folders) or baths however you need to provide the full path of the file.\n",
    "\n",
    "#my_file = open(\"/Users/abdulkarimshwani/Desktop/ppfbiologists/Bio_Project/paths_folder.txt\", \"w\")\n",
    "#my_file.write(\"Hello ! This is for paths & folders\")\n",
    "#my_file.close()\n",
    "\n",
    "# e.g.;\n",
    "my_file = open(\"/Users/abdulkarimshwani/Desktop/ppfbiologists/Bio_Project/paths_folder.txt\")\n",
    "\n",
    "# So here the object file is just opened, to see the content, use;\n",
    "#contents = my_file.read() and then print(contents)\n",
    "# or istead of the two line, use one line as follow; \n",
    "#print(my_file.read())\n"
   ]
  },
  {
   "cell_type": "code",
   "execution_count": null,
   "metadata": {},
   "outputs": [],
   "source": [
    "# Exercises of chapter 3 of p-4b Done before!\n",
    "# Exercise1; Splititng genomic DNA; All of the following solutions, especially the last one, are working!\n",
    "#To open the dna file and read its contents:\n",
    "dna_file = open(\"genomic_dna.txt\")  #  file object opened\n",
    "my_dna = dna_file.read()  #  file content read\n",
    "\n",
    "# To extract the different bits of DNA sequence:\n",
    "exon1 = my_dna[0:63]\n",
    "intron = my_dna[63:90]\n",
    "exon2 = my_dna[90:]\n",
    "\n",
    "# To open the two output files:\n",
    "coding_file = open(\"coding_dna.txt\", \"w\")\n",
    "noncoding_file = open(\"noncoding_dna.txt\", \"w\")\n",
    "\n",
    "# To write the sequene to the output files:\n",
    "coding_file.write(\"# The coding_sequence sequence is as follow:\" + \"\\n\" + exon1 + exon2)\n",
    "noncoding_file.write(\"# The None_coding_sequence is as follow:\" + \"\\n\" + intron.lower())\n",
    "dna_file.close()\n",
    "coding_file.close()\n",
    "noncoding_file.close()\n",
    "\n",
    "# Exercise2; Writing a FASTA file: All of the following answers could work!\n",
    "# put a new line at the end of the DNA sequence;\n",
    "y_file = open(\"FASTA.fasta\",\"w\")\n",
    "my_file.write(\">ABC123\\n\" + \"ATCGTACGATCGATCGATCGCTAGACGTATCG\\n\" + \">DEF456\\n\" + \"actgatcgacgatcgatcgatcacgact\\n\".upper() + \">HIJ789\\n\" + \"ACTGAC-ACTGT--ACTGTA----CATGTG\\n\".replace('-',''))\n",
    "my_file.close()\n",
    "\n",
    "# Answer from the book:\n",
    "header_1 = \"ABC123\"\n",
    "header_2 = \"DEF456\"\n",
    "header_3 = \"HIJ789\"\n",
    "seq_1 = \"ATCGTACGATCGATCGATCGCTAGACGTATCG\"\n",
    "seq_2 = \"actgatcgacgatcgatcgatcacgact\"\n",
    "seq_3 = \"ACTGAC-ACTGT--ACTGTA----CATGTG\"\n",
    "\n",
    "output = open(\"sequences.fasta\", \"w\")\n",
    "output.write('>' + header_1 + '\\n' + seq_1 + '\\n')\n",
    "output.write('>' + header_2 + '\\n' + seq_2.upper() + '\\n')\n",
    "output.write('>' + header_3 + '\\n' + seq_3.replace('-','') + '\\n')\n",
    "output.close()\n",
    "\n",
    "# Exercise3; Writing multiple FASTA files; All the following solutions are ok;\n",
    "#Solution found from the book;\n",
    "# set the values of all the header variable\n",
    "header_1 = \"ABC123\"\n",
    "header_2 = \"DEF456\"\n",
    "header_3 = \"HIJ789\"\n",
    "\n",
    "#set the values of all the sequence variables\n",
    "seq_1 = \"ATCGTACGATCGATCGATCGCTAGACGTATCG\"\n",
    "seq_2 = \"actgatcgacgatcgatcgatcacgact\"\n",
    "seq_3 = \"ACTGAC-ACTGT--ACTGTA----CATGTG\"\n",
    "\n",
    "# make three files to hold the output\n",
    "output_1 = open(header_1 + \".fasta\",\"w\")\n",
    "output_2 = open(header_2 + \".fasta\",\"w\")\n",
    "output_3 = open(header_3 + \".fasta\",\"w\")\n",
    "\n",
    "# write one sequence to each output file\n",
    "output_1.write('>' + header_1 + '\\n' + seq_1 + '\\n')\n",
    "output_2.write('>' + header_2 + '\\n' + seq_2.upper() + '\\n')\n",
    "output_3.write('>' + header_3 + '\\n' + seq_3.replace('-','') + '\\n')\n",
    "output_1.close()\n",
    "output_2.close()\n",
    "output_3.close()\n",
    "\n"
   ]
  },
  {
   "cell_type": "code",
   "execution_count": null,
   "metadata": {},
   "outputs": [],
   "source": [
    "# p4b_ch04:\n",
    "# Lists and loops in python:\n",
    "# Previously we had different ways to code, but with many items that does not work, we need lists and loops codes;\n",
    "#Solution found from the book;\n",
    "# set the values of all the header variable\n",
    "header_1 = \"ABC123\"\n",
    "header_2 = \"DEF456\"\n",
    "header_3 = \"HIJ789\n",
    "#set the values of all the sequence variables\n",
    "seq_1 = \"ATCGTACGATCGATCGATCGCTAGACGTATCG\"\n",
    "seq_2 = \"actgatcgacgatcgatcgatcacgact\"\n",
    "seq_3 = \"ACTGAC-ACTGT--ACTGTA----CATGTG\"\n",
    "# make three files to hold the output\n",
    "output_1 = open(header_1 + \".fasta\",\"w\")\n",
    "output_2 = open(header_2 + \".fasta\",\"w\")\n",
    "output_3 = open(header_3 + \".fasta\",\"w\")\n",
    "# write one sequence to each output file\n",
    "output_1.write('>' + header_1 + '\\n' + seq_1 + '\\n')\n",
    "output_2.write('>' + header_2 + '\\n' + seq_2.upper() + '\\n')\n",
    "output_3.write('>' + header_3 + '\\n' + seq_3.replace('-','') + '\\n')\n",
    "output_1.close()\n",
    "output_2.close()\n",
    "output_3.close()\n"
   ]
  },
  {
   "cell_type": "code",
   "execution_count": 7,
   "metadata": {},
   "outputs": [
    {
     "name": "stdout",
     "output_type": "stream",
     "text": [
      "Homo sapiens\n",
      "132\n"
     ]
    }
   ],
   "source": [
    "# - Creating lists and retrieving (recover or bring sth back) elements:\n",
    "# - List consists of a pair of square brackets holding several strings, or several number, or several other types of values or variables, separated by commas(,).\n",
    "# list1 = [\"string\", \"string\", \"string\"]\n",
    "# list2 = [34, 48, 90]\n",
    "# list3 = [datatype, datatype, datatype]\n",
    "# - e.g.;\n",
    "apes = [\"Homo sapiens\", \"Pan troglodyted\", \"Gorilla gorilla\"]\n",
    "conserved_sites = [24, 56, 132]\n",
    "\n",
    "# - Each individual item in a list, e.g., \"Homo sapiens\" in apes list, or 56 in conserved_sites, is called an element.\n",
    "# - Getting a single element from a list:\n",
    "# - To get a single element from a list, write the variable name followed by the index of the element you want in square brackets, e.g.,  \n",
    "print(apes[0]) # will print first string in the apes list. \n",
    "# Or,\n",
    "first_site = conserved_sites[2] # first_site is the variable name.\n",
    "print (first_site)\n"
   ]
  },
  {
   "cell_type": "code",
   "execution_count": 8,
   "metadata": {},
   "outputs": [
    {
     "name": "stdout",
     "output_type": "stream",
     "text": [
      "1\n"
     ]
    }
   ],
   "source": [
    "# - index () method;\n",
    "# - When we know which element from a list we want to get, but we do not know its index, we can use index() method . (Could be used for replacing something with another); e.g;\n",
    "apes = [\"Homo sapiens\", \"Pan troglodyted\", \"Gorilla gorilla\"]\n",
    "chimp_index = apes.index(\"Pan troglodyted\") # So, chimp_index is now 1 as result too\n",
    "print(chimp_index) # result is 1\n"
   ]
  },
  {
   "cell_type": "code",
   "execution_count": 12,
   "metadata": {},
   "outputs": [
    {
     "name": "stdout",
     "output_type": "stream",
     "text": [
      "Gorilla gorilla\n",
      "['kingdom', 'phylum', 'class', 'order', 'family']\n",
      "['class', 'order', 'family']\n"
     ]
    }
   ],
   "source": [
    "# - We count index from 0 and on, so first element from a list is always in the index of 0. If you give negative number, e.g., -1, it starts looking at the elements from the end of the list, e.g., \n",
    "last_ape = apes[-1] # looks at the last element\n",
    "print(last_ape)\n",
    "#- To get two or more elements from a list, use till, i.e., colon [:] between the indices of the wanted elements from the list, e.g.,\n",
    "ranks = [\"kingdom\", \"phylum\", \"class\", \"order\", \"family\"]\n",
    "print(ranks)\n",
    "lower_ranks = ranks[2:5] # retrives lower ranks which are \"class\", \"order\", \"family\", or sub_list, i.e., 3 eleentas from the list.\n",
    "print(lower_ranks)"
   ]
  },
  {
   "cell_type": "code",
   "execution_count": 13,
   "metadata": {},
   "outputs": [
    {
     "name": "stdout",
     "output_type": "stream",
     "text": [
      "['Homo sapiens', 'Pan troglodyted', 'Gorilla gorilla']\n",
      "['Homo sapiens', 'Pan troglodyted', 'Gorilla gorilla', 'Pan paniscus']\n"
     ]
    }
   ],
   "source": [
    "# - Stings (as in ch02) and lists (as in ch03) could be treated in similar way using index.\n",
    "# - Working with list elements using append(); len(); extend(); reverse(); sort(); str():\n",
    "# - append(); To add another element onto the end of an existing list, we can use the append() method, which changes the variable on which it is used, e.g.; from the following list we have 3 elements after using append, the list will include 4 elements;\n",
    "apes = [\"Homo sapiens\", \"Pan troglodyted\", \"Gorilla gorilla\"]\n",
    "print(apes)\n",
    "apes.append(\"Pan paniscus\")\n",
    "print(apes)\n"
   ]
  },
  {
   "cell_type": "code",
   "execution_count": null,
   "metadata": {},
   "outputs": [],
   "source": [
    "# - len(); To get the length of a list we can use len() function, just the same way as we did for strings, e.g.;\n",
    "apes = [\"Homo sapiens\", \"Pan troglodyted\", \"Gorilla gorilla\"]\n",
    "print(\"There are \" + str(len(apes)) + \" apes\")\n",
    "apes.append(\"Pan paniscus\")\n",
    "print(\"Now There are \" + str(len(apes)) + \" apes\")\n",
    "\n"
   ]
  },
  {
   "cell_type": "code",
   "execution_count": 1,
   "metadata": {},
   "outputs": [
    {
     "name": "stdout",
     "output_type": "stream",
     "text": [
      "['Homo sapiens', 'Pan troglodyted', 'Gorilla gorilla', 'Papio ursinus', 'Macaca mulatta']\n",
      "3 apes\n",
      "2 monkeys\n",
      "5 primates\n"
     ]
    }
   ],
   "source": [
    "#- Plus sign (+) is the symbol for concatenation; We can concatenate two lists just as we did with strings, but using the plus symbol, e.g.;\n",
    "apes = [\"Homo sapiens\", \"Pan troglodyted\", \"Gorilla gorilla\"]\n",
    "monkeys = [\"Papio ursinus\", \"Macaca mulatta\"]\n",
    "primates = apes + monkeys\n",
    "print(primates) # Shows the concatenation of apes with monkeys\n",
    "print(str(len(apes)) + \" apes\")\n",
    "print(str(len(monkeys)) + \" monkeys\")\n",
    "print(str(len(primates)) + \" primates\")\n",
    "\n",
    "# - That does not change the original lists, but makes a brand-new list (primates) which contains elements from both lists (apes, monkeys)."
   ]
  },
  {
   "cell_type": "code",
   "execution_count": null,
   "metadata": {},
   "outputs": [],
   "source": [
    "# - extend(): We can use the extend() method to add elements from a list onto the end of an existing list, changing it (the existing list) in the process.\n",
    "# extend() method behaves like append(), but takes a list as its argument rather than just taking a single element as its argument as append(), e.g.;\n",
    "apes = [\"Homo sapiens\", \"Pan troglodyted\", \"Gorilla gorilla\"]\n",
    "print(apes)\n",
    "monkeys = [\"Papio ursinus\", \"Macaca mulatta\"]\n",
    "print(monkeys)\n",
    "apes.extend(monkeys)\n",
    "print(apes)\n"
   ]
  },
  {
   "cell_type": "code",
   "execution_count": 2,
   "metadata": {},
   "outputs": [
    {
     "name": "stdout",
     "output_type": "stream",
     "text": [
      "at the start : ['kingdom', 'phylum', 'class', 'order', 'family']\n",
      "after reversing : ['family', 'order', 'class', 'phylum', 'kingdom']\n",
      "after sorting : ['class', 'family', 'kingdom', 'order', 'phylum']\n"
     ]
    }
   ],
   "source": [
    "# - reverse() and sort() methods; To change the variable they are used on, we can use reverse() and sort() methods, both work by changing the order of the elements in the list. \n",
    "# - If we want to print out a list to see how this works, we need to use str() (just as we did when printing out numbers), e.g;\n",
    "ranks = [\"kingdom\", \"phylum\", \"class\", \"order\", \"family\"]\n",
    "print(\"at the start : \" + str(ranks)) # prints as they are\n",
    "\n",
    "ranks.reverse()\n",
    "print(\"after reversing : \" + str(ranks)) # prints in reverse, which means puts the last element first, and the first one last, .. etc.\n",
    "\n",
    "ranks.sort()\n",
    "print(\"after sorting : \" + str(ranks)) # sorts the elements by A --> Z alphabets sorting.\n",
    "\n",
    "# # By default, Python sorts strings in alphabetical order, and sorts numbers in ascending numerical order. However, we can sort in other ways, too, - Take a look at the functional programming chapter in 'Advanced Python for Biologists\"."
   ]
  },
  {
   "cell_type": "code",
   "execution_count": 1,
   "metadata": {},
   "outputs": [
    {
     "name": "stdout",
     "output_type": "stream",
     "text": [
      "Homo sapiens is an ape\n",
      "Pan troglodyted is an ape\n",
      "Gorilla gorilla is an ape\n"
     ]
    }
   ],
   "source": [
    "# Writing a loop:\n",
    "# To print each element, for example, on a separate line, e.g.;\n",
    "apes = [\"Homo sapiens\", \"Pan troglodyted\", \"Gorilla gorilla\"]\n",
    "# We can print each element separately, as one way,\n",
    "print(apes[0] + \" is an ape\")\n",
    "print(apes[1] + \" is an ape\")\n",
    "print(apes[2] + \" is an ape\")\n"
   ]
  },
  {
   "cell_type": "code",
   "execution_count": 2,
   "metadata": {},
   "outputs": [
    {
     "name": "stdout",
     "output_type": "stream",
     "text": [
      "Homo sapiens is an ape\n",
      "Pan troglodyted is an ape\n",
      "Gorilla gorilla is an ape\n"
     ]
    }
   ],
   "source": [
    "# But it is very repetitive, and relies on us knowing the number of elements in the list, e.g;\n",
    "\n",
    "# What we want is to say something along the lines of;\n",
    "         # For each element in the list of apes, print out the element, followed by the words \"is an ap\n",
    "# So, Python's LOOP syntax allows us to express those (above) instructions like this:\n",
    "\n",
    "for ape in apes: # Here 'ape' is just a variable name, but we do not store any value in it, and its value will be different each time round the loop, we could put i, or x, or element, or any other words instead of the word 'ape', but 'ape' is much more expressive here, so here 'ape' is looping for each element in apes (=y) list, and on which performs the command in the loop block, which is here is printing it to screen along with the following words \"is an ape\";\n",
    "    print(ape + \" is an ape\") # This first line of for loop ends with a colon (:), which helps all of the subsequent lines to get indented. A group of indented lines is often called a 'block of code', in other programming languages we have curly brackets instead of indentations of Python to define code blocks. \n"
   ]
  },
  {
   "cell_type": "code",
   "execution_count": 3,
   "metadata": {},
   "outputs": [
    {
     "name": "stdout",
     "output_type": "stream",
     "text": [
      "Homo sapiens is an ape. Its name starts with H\n",
      "Its name has 12 letters\n",
      "Pan troglodyted is an ape. Its name starts with P\n",
      "Its name has 15 letters\n",
      "Gorilla gorilla is an ape. Its name starts with G\n",
      "Its name has 15 letters\n"
     ]
    }
   ],
   "source": [
    "# - In this case, we refer to indented block as the body of the loop, and the lines (number of lines could be as many as we like) inside it will be executed once for each element in the list. The body can include all of the functions and methods we learned, with one important exception: We are not allowed to change the list while inside the body of the loop, because that confuses Python.\n",
    "# Here's an exampe of a loop with a more complicated body:\n",
    "apes = [\"Homo sapiens\", \"Pan troglodyted\", \"Gorilla gorilla\"]\n",
    "for ape in apes:\n",
    "    name_length = len(ape)\n",
    "    first_letter = ape[0] # This [0] zero means first letter of the name\n",
    "    print (ape + \" is an ape. Its name starts with \" + first_letter)\n",
    "    print(\"Its name has \" + str(name_length) + \" letters\")\n",
    "    \n"
   ]
  },
  {
   "cell_type": "code",
   "execution_count": null,
   "metadata": {},
   "outputs": [],
   "source": [
    "# This statement much more shorter than writng a statement for each element to do the same thing, thus we got rid of redundancy. Also, if we want to make changes we can make only once rather than 3 times.\n",
    "# Another benefit of using loop is that if we want to add some elements to the list, we do not have to touch the loop at all. Consequently, it does not matter howmany elements are there in the list, and it is not problem if we do not know howmany elements are going to be in the list at the time when we write the code.\n",
    "# List Comprehension: Many problems that can be solved with loops can also be solved using a tool called list comprehensions - see the chapter on comprehensions in Advanced Python for Biologists for details.\n"
   ]
  },
  {
   "cell_type": "code",
   "execution_count": 3,
   "metadata": {},
   "outputs": [
    {
     "ename": "IndentationError",
     "evalue": "unindent does not match any outer indentation level (<tokenize>, line 5)",
     "output_type": "error",
     "traceback": [
      "\u001b[0;36m  File \u001b[0;32m\"<tokenize>\"\u001b[0;36m, line \u001b[0;32m5\u001b[0m\n\u001b[0;31m    first_letter = ape[0] # This [0] zero means first letter of the name\u001b[0m\n\u001b[0m    ^\u001b[0m\n\u001b[0;31mIndentationError\u001b[0m\u001b[0;31m:\u001b[0m unindent does not match any outer indentation level\n"
     ]
    }
   ],
   "source": [
    "# Indentation errors: They are introduced as a result of the requirement of loops for indentations, this error happens when the indentation of one of the lines in the block does not match the others.\n",
    "apes = [\"Homo sapiens\", \"Pan troglodyted\", \"Gorilla gorilla\"]\n",
    "for ape in apes:\n",
    "    name_length = len(ape)\n",
    "  first_letter = ape[0] # This [0] zero means first letter of the name\n",
    "    print (ape + \" is an ape. Its name starts with \" + first_letter)\n",
    "    print(\"Its name has \" + str(name_length) + \" letters\")\n",
    "\n",
    "# Error! The message says, \"unindent does not match any outer indentation level\".\n",
    "# So when we see this message of IndentationError, we need to go back to our code and that all the lines in the block match up.\n",
    "# Also, check you are either using tabs or spaces for indentation, not both, for that enable tab emulation in our text editor is important.\n",
    "\n"
   ]
  },
  {
   "cell_type": "code",
   "execution_count": 8,
   "metadata": {},
   "outputs": [
    {
     "name": "stdout",
     "output_type": "stream",
     "text": [
      "one character is p\n",
      "one character is y\n",
      "one character is t\n",
      "one character is h\n",
      "one character is o\n",
      "one character is n\n"
     ]
    }
   ],
   "source": [
    "# Using a string as a list:\n",
    "# string could be used in loop as list, so we can use list index notation to get individual characters or substrings from inside a string (instead of elements as in list).\n",
    "# We can also use loop notation to process a string the same as we did for list, when we write a string in the position of a list, Python treats each character in the string as an element in list. This allows us to very easily process a string one character at a time:\n",
    "# e.g.,\n",
    "name = \"python\"\n",
    "for character in name:\n",
    "    print(\"one character is \" + character)\n",
    "    \n",
    "# Iteration: The process of repeating a set of instruction for each element of a list (or character in a string) is called iteration, and we often talk about iterating over a list or string.\n",
    "\n"
   ]
  },
  {
   "cell_type": "code",
   "execution_count": 1,
   "metadata": {},
   "outputs": [
    {
     "name": "stdout",
     "output_type": "stream",
     "text": [
      "['melanogaster', 'simulan', 'yakuba', 'ananassae']\n"
     ]
    }
   ],
   "source": [
    "# Splitting a string to made a list:\n",
    "# We manually added lists so far, but there are many functions and methods in Python that produce list of their output. Example, split(method) which is interested by biologists;\n",
    "\n",
    "# split() method: It works on strings. split() takes a single argument, called the delimiter, (separates things, like comma, or t for tab) between quotes, and splits the original string wherever it sees the delimiter, producing a list, e.g;\n",
    "names = \"melanogaster,simulan,yakuba,ananassae\"\n",
    "species = names.split(\",\")\n",
    "print(str(species))  # = print(species)\n",
    "\n",
    "# As seen from output, we see split() method splits the string wherever there is (,) leaving us with a list of strings.\n",
    "\n",
    "# Then after a list created that way, we can treat it as a list and iterate over it using a loop, just lie an other list.\n",
    "\n"
   ]
  },
  {
   "cell_type": "code",
   "execution_count": null,
   "metadata": {},
   "outputs": [],
   "source": [
    "# Iterating over lines in a file:\n",
    "# i.e., we can use a file instead of list in for loop, as string could be turned to list for the purposes of looping, a file object can do the same trick, to know pretending in detail, look at Python documentation for iterators, but needs quite a bit of reading.\n"
   ]
  },
  {
   "cell_type": "code",
   "execution_count": null,
   "metadata": {},
   "outputs": [],
   "source": [
    "# Treat a string vs a file as a list; When we treat a string as a list, each character becomes an individual element, but when we treat a file as a list, each line becomes (or is considered as) an individual element. This makes processing a file line by line very easy.\n",
    "# e.g.,\n",
    "file = open(\"some_input.txt\")\n",
    "for line in file:\n",
    "    # do something with the line.\n"
   ]
  },
  {
   "cell_type": "code",
   "execution_count": null,
   "metadata": {},
   "outputs": [],
   "source": [
    "# Notice that in this example we are iterating over the file object, not over the file contents. If we iterate over the file contents, it will be like this, e.g. below, then each time round the loop, we will be dealing with a single character, which is probably not what we want.\n",
    "# A good way to solve this issue is to ask yourself, whenever you open a file, whether you want to get the contents as one big string (in which case you should use read()) or line-by-line (in which case you should iterate over file object as below).\n",
    "\n",
    "# e.g.,\n",
    "file = open(\"some_input.txt\")\n",
    "contents = file.read()\n",
    "for line in file:\n",
    "    # warning: line contains just a single character!"
   ]
  },
  {
   "cell_type": "code",
   "execution_count": null,
   "metadata": {},
   "outputs": [],
   "source": [
    "# Another pitfalls is to iterate over the same file object twice;\n",
    "# e.g,\n",
    "file = open(\"some_input.txt\")\n",
    "# Print the length of each line;\n",
    "for line in file:\n",
    "    print(\"The length is \" + str(len(line))\n",
    "\n",
    "# Print the first character of each line;\n",
    "for line in file:\n",
    "    print(\"The first character is \" + line[0])\n"
   ]
  },
  {
   "cell_type": "code",
   "execution_count": null,
   "metadata": {},
   "outputs": [],
   "source": [
    "# If run this the second loop does not get executed, because as we try to iterate the file while it is at the end of it, it gets exhausted and will not work, unless we opened the file and closed it every time we want to iterate over it or go back to it.\n",
    "# e.g,\n",
    "file = open(\"some_input.txt\")\n",
    "# Print the length of each line;\n",
    "for line in file:\n",
    "    print(\"The length is \" + str(len(line))\n",
    "file.close()\n",
    "\n",
    "# Print the first character of each line;\n",
    "for line in file:\n",
    "    print(\"The first character is \" + line[0])\n",
    "file.close()\n"
   ]
  },
  {
   "cell_type": "code",
   "execution_count": 17,
   "metadata": {},
   "outputs": [
    {
     "ename": "SyntaxError",
     "evalue": "invalid syntax (<ipython-input-17-5aafd90a6a18>, line 14)",
     "output_type": "error",
     "traceback": [
      "\u001b[0;36m  File \u001b[0;32m\"<ipython-input-17-5aafd90a6a18>\"\u001b[0;36m, line \u001b[0;32m14\u001b[0m\n\u001b[0;31m    for line in all_lines:\u001b[0m\n\u001b[0m                         ^\u001b[0m\n\u001b[0;31mSyntaxError\u001b[0m\u001b[0;31m:\u001b[0m invalid syntax\n"
     ]
    }
   ],
   "source": [
    "# Better way to solve this issue is to read (convert) lines of a file into elements in a list, then iterate over the list safely and multiple times;\n",
    "# readlines() method; It returns a list of all the lines in a file, and we can use readlines() method like this;\n",
    "# e.g,\n",
    "# first store a list of lines in the file;\n",
    "file = open(\"some_input.txt\")\n",
    "all_lines = file.readlines()\n",
    "          \n",
    "# Print the length of each line;\n",
    "for line in all_lines:\n",
    "    print(\"The length is \" + str(len(line))\n",
    "\n",
    "\n",
    "# Print the first character of each line;\n",
    "for line in all_lines:\n",
    "    print(\"The first character is \" + line[0])"
   ]
  },
  {
   "cell_type": "code",
   "execution_count": 33,
   "metadata": {},
   "outputs": [],
   "source": [
    "# Looping with ranges;\n",
    "# Sometimes we want to iterate over a list of numbers. Imagine we have a protein sequence:\n",
    "protein = \"vlspadktnv\"\n",
    "# and we want to print out the first three residues, then the first four residues, ... etc.:\n",
    "# vls\n",
    "# vlsp\n",
    "# vlspa\n",
    "# vlspad\n",
    "# ... etc ..."
   ]
  },
  {
   "cell_type": "code",
   "execution_count": 36,
   "metadata": {},
   "outputs": [
    {
     "name": "stdout",
     "output_type": "stream",
     "text": [
      "v\n",
      "vl\n",
      "vls\n",
      "vlsp\n",
      "vlspa\n",
      "vlspad\n",
      "vlspadk\n",
      "vlspadkt\n",
      "vlspadktn\n",
      "vlspadktnv\n"
     ]
    }
   ],
   "source": [
    "# Substring notation could be done to extract and print several characters of the name,if we try to do it without using loop, it will be very repetitive as follow:\n",
    "protein = \"vlspadktnv\"\n",
    "\n",
    "print(protein[0:1])\n",
    "print(protein[0:2])\n",
    "print(protein[0:3])\n",
    "print(protein[0:4])\n",
    "print(protein[0:5])\n",
    "print(protein[0:6])\n",
    "print(protein[0:7])\n",
    "print(protein[0:8])\n",
    "print(protein[0:9])\n",
    "print(protein[0:10])\n",
    "\n",
    "#... etc ...\n",
    "# Looking at the code, the structure of the problem becomes clear, each time we print out a line, the end position of the substring need to increase by one. \n"
   ]
  },
  {
   "cell_type": "code",
   "execution_count": 40,
   "metadata": {},
   "outputs": [
    {
     "name": "stdout",
     "output_type": "stream",
     "text": [
      "v\n",
      "vl\n",
      "vls\n",
      "vlsp\n",
      "vlspa\n",
      "vlspad\n",
      "vlspadk\n",
      "vlspadkt\n",
      "vlspadktn\n",
      "vlspadktnv\n"
     ]
    }
   ],
   "source": [
    "# Obviously we need a loop to do this, but what are we going to iterate over? We cann't just iterate over the protein string, because that will give us individual residues (aminoacids), which is not what we want. We can manually assemble a list of stop positions, and iterate over that:\n",
    "# e.g.,\n",
    "protein = \"vlspadktnv\"\n",
    "stop_positions = [1,2,3,4,5,6,7,8,9,10]\n",
    "for stop in stop_positions:\n",
    "          substring = protein[0:stop]\n",
    "          print(substring)\n",
    "\n",
    "# but this is cumbersome and only works if you know the length of the protein sequence in advance\n"
   ]
  },
  {
   "cell_type": "code",
   "execution_count": 53,
   "metadata": {},
   "outputs": [
    {
     "name": "stdout",
     "output_type": "stream",
     "text": [
      "vlsp\n",
      "vlspa\n",
      "vlspad\n",
      "vlspadk\n"
     ]
    }
   ],
   "source": [
    "# range(): \n",
    "# A better solution for above issue, we can use the range() function. It is a built in Python function that generates lists of numbers.\n",
    "# The behavior of this range() function depends on how many arguments we give to it. e.g.; with output following directly after code.\n",
    "protein = \"vlspadktnv\"\n",
    "stop_positions = [1,2,3,4,5,6,7,8,9,10]\n",
    "for stop in range(4,8):\n",
    "          substring = protein[0:stop]\n",
    "          print(substring)"
   ]
  },
  {
   "cell_type": "code",
   "execution_count": 54,
   "metadata": {},
   "outputs": [
    {
     "name": "stdout",
     "output_type": "stream",
     "text": [
      "\n",
      "v\n",
      "vl\n",
      "vls\n",
      "vlsp\n",
      "vlspa\n"
     ]
    }
   ],
   "source": [
    "# in this case it prints 0-5 9ndex residues as you wrote range(0,6)\n",
    "protein = \"vlspadktnv\"\n",
    "stop_positions = [1,2,3,4,5,6,7,8,9,10]\n",
    "for stop in range(6):  # in this case it prints 0-5 9ndex residues as you wrote range(0,6)\n",
    "          substring = protein[0:stop]\n",
    "          print(substring)\n"
   ]
  },
  {
   "cell_type": "code",
   "execution_count": 71,
   "metadata": {},
   "outputs": [
    {
     "name": "stdout",
     "output_type": "stream",
     "text": [
      "0\n",
      "1\n",
      "2\n",
      "3\n",
      "4\n",
      "5\n",
      "3\n",
      "4\n",
      "5\n",
      "6\n",
      "7\n",
      "2\n",
      "6\n",
      "10\n"
     ]
    }
   ],
   "source": [
    "# e.g., range() function with a single argument; range() will count up from zero to that number, excluding the number itself.\n",
    "for number in range(6):# in this case it prints 0-5 9ndex residues as you wrote range(0,6)\n",
    "          print(number)\n",
    "\n",
    "\n",
    "# e.g., range() function with two numbers; range() will count up from the first number (inclusive) to the second number (exclusive):\n",
    "for number in range(3,8):\n",
    "          print(number)\n",
    "\n",
    "\n",
    "# e.g., range() function with three numbers; range() will count up from the first to the second number with the step size given by the third:       \n",
    "for number in range(2, 14, 4): # The third digit, i.e. 4 here, tells each increase to go 4 by 4, if it was 2, it was going 2 by 2 , and so on. But that does not work for strings.\n",
    "          print(number)\n"
   ]
  },
  {
   "cell_type": "code",
   "execution_count": null,
   "metadata": {},
   "outputs": [],
   "source": [
    "# - Exercises of chapter 4 of p_4_b:\n",
    "# 1exercise_ch4: Processing DNA in a file\n",
    "\n",
    "file = open(\"input.txt\")\n",
    "output = open(\"trimmed.txt\", \"w\")\n",
    "\n",
    "for dna in file:\n",
    "    trimmed_dna = dna[14:]\n",
    "    print(\"processed sequence with length \" + str(len(trimmed_dna)))\n",
    "\n",
    "output.write(trimmed_dna)\n",
    "output.close()\n"
   ]
  },
  {
   "cell_type": "code",
   "execution_count": null,
   "metadata": {},
   "outputs": [],
   "source": [
    "### Solution from the book for exercise 1 in p4b_ch04:\n",
    "\n",
    "# 1st step: we'll write a program that simply reads each sequence from the file and prints it to the screen :\n",
    "\n",
    "file = open(\"input.txt\")\n",
    "for dna in file:\n",
    "    print (dna)\n",
    "\n",
    "# We forget to remove the newlines from the ends of the DNA sequences- there is a blank lin between each line of output:\n",
    "# but we ignore that for now;\n",
    "\n",
    "# 2nd step: we will remove the 14 initial bases of each sequence];\n",
    "# We know that we want to take a substring from each sequence, starting at the 15th character (= 14 index) and contunue to the end (:). we can use the trick we learned in ch02.\n",
    "# We are simply printing the trimmed DNA, in whch the 14 initial characters are removed;\n",
    "# e.g.,\n",
    "file = open(\"input.txt\")\n",
    "for dna in file:\n",
    "    trimmed_dna = dna[14:]\n",
    "    print(trimmed_dna)\n",
    "\n",
    "# Now, after we figure that our code is working, now it is time to move from printing to screen to type in file;\n",
    "# We'll have to open the file before the loop, then write the trimmed sequences to the file inside the loop, then close the file (that includes the input sequences) after the loop:\n",
    "# e.g.;\n",
    "#file = open(\"input.txt\")\n",
    "#output = open(\"trimmed.txt\", \"w\")\n",
    "#for dna in file:\n",
    "#    last_character_position = len(dna)\n",
    "#    trimmed_dna = dna[14:last_character_position]\n",
    "#    output.write(trimmed_dna)\n",
    "#output.close()\n",
    "\n",
    "\n",
    "# Opening the trimmed.txt file, we see it looks good. The newlines did not removed yet,\n",
    "# No the final step: Print the lengths to the screen- requires just one more line of code.\n",
    "# Here is the final program in full, with comments:\n",
    "\n",
    "# Open the input file\n",
    "file = open(\"input.txt\")\n",
    "\n",
    "# Open the output file\n",
    "output = open(\"trimmed.txt\", \"w\")\n",
    "\n",
    "# Go through the input file one line at a time\n",
    "for dna in file:\n",
    "\n",
    "\n",
    "    # Get the substring from the 15th character to the end\n",
    "    trimmed_dna = dna[14:]\n",
    "\n",
    "    # Print out the trimmed sequence\n",
    "    output.write(trimmed_dna)\n",
    "\n",
    "    # Print out the length to the screen\n",
    "    print(\"processed sequence with length \" + str(len(trimmed_dna)))\n",
    "\n",
    "# Close the output file\n",
    "output.close()\n",
    "\n",
    "\n",
    "\n",
    "\n",
    "## How this type of code goes wrong?\n",
    "# There are a couple of easy ways to get this type of program wrong. if we open and close the file inside the loop instead of before:\n",
    "#file = open(\"input.txt\")\n",
    "#for dna in file:\n",
    "#    output = open (\"trimmed.txt\", \"w\")\n",
    "#    trimmed_dna = dna[14:]\n",
    "#    output.write(trimmed_dna)\n",
    "#    print(\"processed sequence with length \" + str(len(trimmed_dna)))\n",
    "#    output.close()\n",
    "\n",
    "\n",
    "# Then we will overwrite the outut file each time and end up with an output file that only contains the last sequence. If we open the file before the loop, but close it inside the loop.\n",
    "#file = open(\"input.txt\")\n",
    "#output = open (\"trimmed.txt\", \"w\")\n",
    "#for dna in file:\n",
    "#    trimmed_dna = dna[14:]\n",
    "#    output.write(trimmed_dna)\n",
    "#    print(\"processed sequence with length \" + str(len(trimmed_dna)))\n",
    "#    output.close()\n",
    "\n",
    "# Then we'll get an error on the second loop iteration when we try to write to a closed file. And if we write to the file after the loop rather than inside:\n",
    "#file = open(\"input.txt\")\n",
    "#output = open (\"trimmed.txt\", \"w\")\n",
    "#for dna in file:\n",
    "#    trimmed_dna = dna[14:]\n",
    "#    print(\"processed sequence with length \" + str(len(trimmed_dna)))\n",
    "#output.write(trimmed_dna)\n",
    "#output.close()\n",
    "\n",
    "\n",
    "# Then we'll only see the last processed sequence.\n",
    "\n",
    "\n",
    "\n",
    "# 2exercise_ch4: Multiple exons from genomic DNA;\n",
    "\n",
    "# Open the genetic dna file and read the contents\n",
    "genetic_dna = open(\"genomic_dna.txt\").read()\n",
    "\n",
    "# open the exons locations file\n",
    "exon_locations = open(\"exons.txt\")\n",
    "\n",
    "# create a variable to hold the coding sequence\n",
    "coding_sequence = \"\"\n",
    "\n",
    "# go through each line in the exon locations file:\n",
    "\n",
    "for line in exon_locaions:\n",
    "\n",
    "    # split the line using a comma;\n",
    "    positions = line.split(',')\n",
    "\n",
    "    # get the start and stop positions\n",
    "    start = in(positions[0])\n",
    "    stop = in(positions[1])\n",
    "\n",
    "    # extract the exon from the genomic dna\n",
    "    exon = genomic_dna[start:stop]\n",
    "\n",
    "    # append the exon to the end of the current coding sequence\n",
    "    coding_sequence = coding_sequence + exon\n",
    "\n",
    "# Write the coding sequence to an output file\n",
    "output = open(\"coding_sequence.txt\", \"w\")\n",
    "output.write(coding_sequence)\n",
    "output.close()\n",
    "\n",
    "#### Solution from the book for exercise 2 in p4b_ch04:\n",
    "# Multiple exons from genomic DNA;\n",
    "\n",
    "# This is similar to the exercises from the previous two chapters, (2&3)\n",
    "\n",
    "    \n",
    "# 1st Step: Read the file of exon locations; so open it first to screen;\n",
    "#exon_locations = open(\"exons.txt\")\n",
    "#for line in exon_locations:\n",
    "#    print(line)\n",
    "\n",
    "# This gives us a loop in which we are dealing with a different exon each time round. we stil have newlines at the end of the lines, do not worry about them for now.\n",
    "\n",
    "# 2nd Step: Split each line into a start and stop position;\n",
    "# A good choice to be utilized to do so is the split() method, using a comma as deliminater;\n",
    "\n",
    "#exon_locations = open(\"exons.txt\")\n",
    "#for line in exon_locations:\n",
    "#    positions = line.split(',')\n",
    "#    print(positions)\n",
    "\n",
    "# So the outcome is a list of two elements, there is a newline at the end of the 2nd element, because we have not remove them.\n",
    "\n",
    "# 3rd Step: Assign the start and stop positions to sensible variable names, and Print them out individually;\n",
    "\n",
    "#exon_locations = open(\"exons.txt\")\n",
    "#for line in exon_locations:\n",
    "#    positions = line.split(',')\n",
    "#    start = positions[0]\n",
    "#    stop = positions[1]\n",
    "#    print(\"start is \" + start + \", stop is \" + stop)\n",
    "\n",
    "# Put these variables to use. We'll read the genomic sequence from the file all in one go using read()\n",
    "# There is no need to process each line separately, as we just want the entire contents\n",
    "\n",
    "# 4th Step: Use the exon coordinates to extract one exon each time round the loop, and print it to the screen;\n",
    "\n",
    "#genomic_dna = open(\"genomic_dna.txt\").read()\n",
    "#exon_locations = open(\"exons.txt\")\n",
    "#for line in exon_locations:\n",
    "#    positions = line.split(',')\n",
    "#    start = positions[0]\n",
    "#    stop = positions[1]\n",
    "#    exon = genomic_dna[start:stop]\n",
    "#    print (\"exon is : \" + exon)\n",
    "\n",
    "# We get errors when we run this code!\n",
    "\n",
    "# What has gone wrong? - Because start and stop are also string, because they are just individual elements of the positions list, so we cannot use them as number unless use int() function infront of them to turn the strings into numbers.\n",
    "    \n",
    "\n",
    "#genomic_dna = open(\"genomic_dna.txt\").read()\n",
    "#exon_locations = open(\"exons.txt\")\n",
    "#for line in exon_locations:\n",
    "#    positions = line.split(',')\n",
    "#    start = int(positions[0])\n",
    "#    stop = int(positions[1])\n",
    "#    exon = genomic_dna[start:stop]\n",
    "#    print (\"exon is : \" + exon)\n",
    "\n",
    "# Now it worked as expected.\n",
    "\n",
    "# Next we need to do sth useful with the exons rather than just printing them to the screen;\n",
    "# We have to concanenate the exons to make a long coding sequence;\n",
    "# if we had all the exons in separate variables then this would be easy:\n",
    "\n",
    "#coding_seq = exon1 + exon 2 + exon3 + exon4\n",
    "\n",
    "# But instead we have a single variable that stores one exon at a time.\n",
    "# One way to get the complete coding sequence is by creating a new variable and assign it to an empty variable before the loop starts;\n",
    "\n",
    "# 5th Step: Create a new variable called coding_sequence and assign it to an empty string, then each time round the loop, we'll add the current exon to the end, and store the result back in the same variable. when the loop has fiished, the coding_sequence variable will contain all the exons, e.g.;\n",
    "\n",
    "#genomic_dna = open(\"genomic_dna.txt\").read()\n",
    "#exon_locations = open(\"exons.txt\")\n",
    "#coding_sequence = \"\"\n",
    "\n",
    "#for line in exon_locations:\n",
    "#    positions = line.split(',')\n",
    "#    start = int(positions[0])\n",
    "#    stop = int(positions[1])\n",
    "#    exon = genomic_dna[start:stop]\n",
    "#    coding_sequence = coding_sequence + exon\n",
    "#    print (\"coding sequence is : \" + coding_sequence)\n",
    "\n",
    "# Before we start processing the exons file, we create the coding_sequence variable, and each time round the loop we add the current exon on to the end. This looks odd because the coding_sequence variable is on both the left and right side of the equals sign, but is actually quite a common technique.\n",
    "# The trick to understant this line is to read the right side of the statement first, i.e.,\n",
    "# Concatenate the current coding_sequence and the current exon, then store the result of that concatenation in coding_sequence.\n",
    "\n",
    "# At the end of the loop, instead of printing the exon we are now printing the coding sequence, and we can see from the output how the coding sequece is gradually built up as we go round the loop:\n",
    "\n",
    "\n",
    "\n",
    "# The Final Step: Save the coding sequence to a file. We can do this at the end of the program with three lines of code, e.g.;\n",
    "\n",
    "\n",
    "\n",
    "# Open the genetic dna file and read the contents\n",
    "genomic_dna = open(\"genomic_dna.txt\").read()\n",
    "\n",
    "# open the exons locations file\n",
    "exon_locations = open(\"exons.txt\")\n",
    "\n",
    "# create a variable to hold the coding sequence\n",
    "coding_sequence = \"\"\n",
    "\n",
    "# go through each line in the exon locations file:\n",
    "for line in exon_locations:\n",
    "\n",
    "    # split the line using a comma;\n",
    "    positions = line.split(',')\n",
    "\n",
    "    # get the start and stop positions\n",
    "    start = int(positions[0])\n",
    "    stop = int(positions[1])\n",
    "\n",
    "    # extract the exon from the genomic dna\n",
    "    exon = genomic_dna[start:stop]\n",
    "\n",
    "    # append the exon to the end of the current coding sequence\n",
    "    coding_sequence = coding_sequence + exon\n",
    "\n",
    "# Write the coding sequence to an output file\n",
    "output = open(\"coding_sequence.txt\", \"w\")\n",
    "output.write(coding_sequence)\n",
    "output.close()\n",
    "\n"
   ]
  },
  {
   "cell_type": "code",
   "execution_count": 11,
   "metadata": {},
   "outputs": [
    {
     "data": {
      "text/html": [
       "<div>\n",
       "<style scoped>\n",
       "    .dataframe tbody tr th:only-of-type {\n",
       "        vertical-align: middle;\n",
       "    }\n",
       "\n",
       "    .dataframe tbody tr th {\n",
       "        vertical-align: top;\n",
       "    }\n",
       "\n",
       "    .dataframe thead th {\n",
       "        text-align: right;\n",
       "    }\n",
       "</style>\n",
       "<table border=\"1\" class=\"dataframe\">\n",
       "  <thead>\n",
       "    <tr style=\"text-align: right;\">\n",
       "      <th></th>\n",
       "      <th>A</th>\n",
       "      <th>B</th>\n",
       "      <th>C</th>\n",
       "      <th>D</th>\n",
       "    </tr>\n",
       "  </thead>\n",
       "  <tbody>\n",
       "    <tr>\n",
       "      <td>0</td>\n",
       "      <td>1</td>\n",
       "      <td>2</td>\n",
       "      <td>2</td>\n",
       "      <td>5</td>\n",
       "    </tr>\n",
       "    <tr>\n",
       "      <td>1</td>\n",
       "      <td>4</td>\n",
       "      <td>9</td>\n",
       "      <td>2</td>\n",
       "      <td>9</td>\n",
       "    </tr>\n",
       "    <tr>\n",
       "      <td>2</td>\n",
       "      <td>2</td>\n",
       "      <td>6</td>\n",
       "      <td>7</td>\n",
       "      <td>8</td>\n",
       "    </tr>\n",
       "    <tr>\n",
       "      <td>3</td>\n",
       "      <td>9</td>\n",
       "      <td>1</td>\n",
       "      <td>2</td>\n",
       "      <td>7</td>\n",
       "    </tr>\n",
       "    <tr>\n",
       "      <td>4</td>\n",
       "      <td>1</td>\n",
       "      <td>2</td>\n",
       "      <td>9</td>\n",
       "      <td>5</td>\n",
       "    </tr>\n",
       "  </tbody>\n",
       "</table>\n",
       "</div>"
      ],
      "text/plain": [
       "   A  B  C  D\n",
       "0  1  2  2  5\n",
       "1  4  9  2  9\n",
       "2  2  6  7  8\n",
       "3  9  1  2  7\n",
       "4  1  2  9  5"
      ]
     },
     "execution_count": 11,
     "metadata": {},
     "output_type": "execute_result"
    }
   ],
   "source": [
    "# How to read (imprt and read) txt, csv, data, .xlsx, and others for python in Jupyter Notebook:\n",
    "# import libraries;\n",
    "# import pandas as pd\n",
    "#import os\n",
    "#from pandas import ExcelWrite\n",
    "#from pandas import ExcelFile\n",
    "\n",
    "# e.g. we read a txt, csv, or xlsx file called some_input.txt, or some_input.csv; or some_input.xlsx;\n",
    "\n",
    "# 1st, to open a txt file;\n",
    "# import library;\n",
    "import pandas as pd\n",
    "my_file = pd.read_table('some_input.txt') # to show the seperation deleminator, after the file name, you can write comma (,) then sep = 'deliminater type, like , , t , space, etc.', as follow; my_file = pd.read_table('some_input.csv', sep=' ')\n",
    "\n",
    "\n",
    "# Then just type the variabel name and hit Run;\n",
    "my_file\n",
    "\n"
   ]
  },
  {
   "cell_type": "code",
   "execution_count": 12,
   "metadata": {},
   "outputs": [
    {
     "data": {
      "text/html": [
       "<div>\n",
       "<style scoped>\n",
       "    .dataframe tbody tr th:only-of-type {\n",
       "        vertical-align: middle;\n",
       "    }\n",
       "\n",
       "    .dataframe tbody tr th {\n",
       "        vertical-align: top;\n",
       "    }\n",
       "\n",
       "    .dataframe thead th {\n",
       "        text-align: right;\n",
       "    }\n",
       "</style>\n",
       "<table border=\"1\" class=\"dataframe\">\n",
       "  <thead>\n",
       "    <tr style=\"text-align: right;\">\n",
       "      <th></th>\n",
       "      <th>A</th>\n",
       "      <th>B</th>\n",
       "      <th>C</th>\n",
       "      <th>D</th>\n",
       "    </tr>\n",
       "  </thead>\n",
       "  <tbody>\n",
       "    <tr>\n",
       "      <td>0</td>\n",
       "      <td>1</td>\n",
       "      <td>2</td>\n",
       "      <td>2</td>\n",
       "      <td>5</td>\n",
       "    </tr>\n",
       "    <tr>\n",
       "      <td>1</td>\n",
       "      <td>4</td>\n",
       "      <td>9</td>\n",
       "      <td>2</td>\n",
       "      <td>9</td>\n",
       "    </tr>\n",
       "    <tr>\n",
       "      <td>2</td>\n",
       "      <td>2</td>\n",
       "      <td>6</td>\n",
       "      <td>7</td>\n",
       "      <td>8</td>\n",
       "    </tr>\n",
       "    <tr>\n",
       "      <td>3</td>\n",
       "      <td>9</td>\n",
       "      <td>1</td>\n",
       "      <td>2</td>\n",
       "      <td>7</td>\n",
       "    </tr>\n",
       "    <tr>\n",
       "      <td>4</td>\n",
       "      <td>1</td>\n",
       "      <td>2</td>\n",
       "      <td>9</td>\n",
       "      <td>5</td>\n",
       "    </tr>\n",
       "  </tbody>\n",
       "</table>\n",
       "</div>"
      ],
      "text/plain": [
       "   A  B  C  D\n",
       "0  1  2  2  5\n",
       "1  4  9  2  9\n",
       "2  2  6  7  8\n",
       "3  9  1  2  7\n",
       "4  1  2  9  5"
      ]
     },
     "execution_count": 12,
     "metadata": {},
     "output_type": "execute_result"
    }
   ],
   "source": [
    "# 2nd, to open a csv file;\n",
    "# import library;\n",
    "import pandas as pd\n",
    "my_file = pd.read_csv('some_input.csv') # to show the seperation deleminator, after the file name, you can write comma (,) then sep = 'deliminater type, like , , t , space, etc.', as follow; my_file = pd.read_table('some_input.csv', sep=' ')\n",
    "\n",
    "\n",
    "# Then just type the variabel name and hit Run;\n",
    "my_file"
   ]
  },
  {
   "cell_type": "code",
   "execution_count": 13,
   "metadata": {
    "scrolled": true
   },
   "outputs": [
    {
     "data": {
      "text/html": [
       "<div>\n",
       "<style scoped>\n",
       "    .dataframe tbody tr th:only-of-type {\n",
       "        vertical-align: middle;\n",
       "    }\n",
       "\n",
       "    .dataframe tbody tr th {\n",
       "        vertical-align: top;\n",
       "    }\n",
       "\n",
       "    .dataframe thead th {\n",
       "        text-align: right;\n",
       "    }\n",
       "</style>\n",
       "<table border=\"1\" class=\"dataframe\">\n",
       "  <thead>\n",
       "    <tr style=\"text-align: right;\">\n",
       "      <th></th>\n",
       "      <th>A</th>\n",
       "      <th>B</th>\n",
       "      <th>C</th>\n",
       "      <th>D</th>\n",
       "    </tr>\n",
       "  </thead>\n",
       "  <tbody>\n",
       "    <tr>\n",
       "      <td>0</td>\n",
       "      <td>1</td>\n",
       "      <td>2</td>\n",
       "      <td>2</td>\n",
       "      <td>5</td>\n",
       "    </tr>\n",
       "    <tr>\n",
       "      <td>1</td>\n",
       "      <td>4</td>\n",
       "      <td>9</td>\n",
       "      <td>2</td>\n",
       "      <td>9</td>\n",
       "    </tr>\n",
       "    <tr>\n",
       "      <td>2</td>\n",
       "      <td>2</td>\n",
       "      <td>6</td>\n",
       "      <td>7</td>\n",
       "      <td>8</td>\n",
       "    </tr>\n",
       "    <tr>\n",
       "      <td>3</td>\n",
       "      <td>9</td>\n",
       "      <td>1</td>\n",
       "      <td>2</td>\n",
       "      <td>7</td>\n",
       "    </tr>\n",
       "    <tr>\n",
       "      <td>4</td>\n",
       "      <td>1</td>\n",
       "      <td>2</td>\n",
       "      <td>9</td>\n",
       "      <td>5</td>\n",
       "    </tr>\n",
       "  </tbody>\n",
       "</table>\n",
       "</div>"
      ],
      "text/plain": [
       "   A  B  C  D\n",
       "0  1  2  2  5\n",
       "1  4  9  2  9\n",
       "2  2  6  7  8\n",
       "3  9  1  2  7\n",
       "4  1  2  9  5"
      ]
     },
     "execution_count": 13,
     "metadata": {},
     "output_type": "execute_result"
    }
   ],
   "source": [
    "# 3rd, to open an excel file;\n",
    "# import library;\n",
    "import pandas as pd\n",
    "my_file = pd.read_excel('some_input.xlsx') # to show the seperation deleminator, after the file name, you can write comma (,) then sep = 'deliminater type, like , , t , space, etc.', as follow; my_file = pd.read_table('some_input.csv', sep=' ')\n",
    "# import libraries;\n",
    "import pandas as pd\n",
    "from pandas import ExcelWrite\n",
    "from pandas import ExcelFile\n",
    "\n",
    "# Then just type the variabel name and hit Run;\n",
    "my_file"
   ]
  },
  {
   "cell_type": "code",
   "execution_count": null,
   "metadata": {},
   "outputs": [],
   "source": []
  }
 ],
 "metadata": {
  "kernelspec": {
   "display_name": "Python 3",
   "language": "python",
   "name": "python3"
  },
  "language_info": {
   "codemirror_mode": {
    "name": "ipython",
    "version": 3
   },
   "file_extension": ".py",
   "mimetype": "text/x-python",
   "name": "python",
   "nbconvert_exporter": "python",
   "pygments_lexer": "ipython3",
   "version": "3.7.4"
  }
 },
 "nbformat": 4,
 "nbformat_minor": 2
}
